{
  "nbformat": 4,
  "nbformat_minor": 0,
  "metadata": {
    "colab": {
      "provenance": [],
      "gpuType": "T4",
      "authorship_tag": "ABX9TyPoM6L4C3F6uphDa11VCsyc",
      "include_colab_link": true
    },
    "kernelspec": {
      "name": "python3",
      "display_name": "Python 3"
    },
    "language_info": {
      "name": "python"
    },
    "accelerator": "GPU"
  },
  "cells": [
    {
      "cell_type": "markdown",
      "metadata": {
        "id": "view-in-github",
        "colab_type": "text"
      },
      "source": [
        "<a href=\"https://colab.research.google.com/github/Divs1159/Reinforcement/blob/main/Simple_Cartpole_PPO.ipynb\" target=\"_parent\"><img src=\"https://colab.research.google.com/assets/colab-badge.svg\" alt=\"Open In Colab\"/></a>"
      ]
    },
    {
      "cell_type": "markdown",
      "source": [
        "# Cart Pole Environment"
      ],
      "metadata": {
        "id": "1PlkOXYbBMeW"
      }
    },
    {
      "cell_type": "code",
      "source": [
        "!pip install stable-baselines3[extra]"
      ],
      "metadata": {
        "colab": {
          "base_uri": "https://localhost:8080/"
        },
        "id": "iUnlXjS4BJpn",
        "outputId": "35efb59d-8c90-4a3c-9a9d-aa98a3c27663"
      },
      "execution_count": 1,
      "outputs": [
        {
          "output_type": "stream",
          "name": "stdout",
          "text": [
            "Collecting stable-baselines3[extra]\n",
            "  Downloading stable_baselines3-2.1.0-py3-none-any.whl (178 kB)\n",
            "\u001b[2K     \u001b[90m━━━━━━━━━━━━━━━━━━━━━━━━━━━━━━━━━━━━━━━━\u001b[0m \u001b[32m178.7/178.7 kB\u001b[0m \u001b[31m4.8 MB/s\u001b[0m eta \u001b[36m0:00:00\u001b[0m\n",
            "\u001b[?25hCollecting gymnasium<0.30,>=0.28.1 (from stable-baselines3[extra])\n",
            "  Downloading gymnasium-0.29.1-py3-none-any.whl (953 kB)\n",
            "\u001b[2K     \u001b[90m━━━━━━━━━━━━━━━━━━━━━━━━━━━━━━━━━━━━━━━━\u001b[0m \u001b[32m953.9/953.9 kB\u001b[0m \u001b[31m41.2 MB/s\u001b[0m eta \u001b[36m0:00:00\u001b[0m\n",
            "\u001b[?25hRequirement already satisfied: numpy>=1.20 in /usr/local/lib/python3.10/dist-packages (from stable-baselines3[extra]) (1.23.5)\n",
            "Requirement already satisfied: torch>=1.13 in /usr/local/lib/python3.10/dist-packages (from stable-baselines3[extra]) (2.1.0+cu118)\n",
            "Requirement already satisfied: cloudpickle in /usr/local/lib/python3.10/dist-packages (from stable-baselines3[extra]) (2.2.1)\n",
            "Requirement already satisfied: pandas in /usr/local/lib/python3.10/dist-packages (from stable-baselines3[extra]) (1.5.3)\n",
            "Requirement already satisfied: matplotlib in /usr/local/lib/python3.10/dist-packages (from stable-baselines3[extra]) (3.7.1)\n",
            "Requirement already satisfied: opencv-python in /usr/local/lib/python3.10/dist-packages (from stable-baselines3[extra]) (4.8.0.76)\n",
            "Requirement already satisfied: pygame in /usr/local/lib/python3.10/dist-packages (from stable-baselines3[extra]) (2.5.2)\n",
            "Requirement already satisfied: tensorboard>=2.9.1 in /usr/local/lib/python3.10/dist-packages (from stable-baselines3[extra]) (2.14.1)\n",
            "Requirement already satisfied: psutil in /usr/local/lib/python3.10/dist-packages (from stable-baselines3[extra]) (5.9.5)\n",
            "Requirement already satisfied: tqdm in /usr/local/lib/python3.10/dist-packages (from stable-baselines3[extra]) (4.66.1)\n",
            "Requirement already satisfied: rich in /usr/local/lib/python3.10/dist-packages (from stable-baselines3[extra]) (13.6.0)\n",
            "Collecting shimmy[atari]~=1.1.0 (from stable-baselines3[extra])\n",
            "  Downloading Shimmy-1.1.0-py3-none-any.whl (37 kB)\n",
            "Requirement already satisfied: pillow in /usr/local/lib/python3.10/dist-packages (from stable-baselines3[extra]) (9.4.0)\n",
            "Collecting autorom[accept-rom-license]~=0.6.1 (from stable-baselines3[extra])\n",
            "  Downloading AutoROM-0.6.1-py3-none-any.whl (9.4 kB)\n",
            "Requirement already satisfied: click in /usr/local/lib/python3.10/dist-packages (from autorom[accept-rom-license]~=0.6.1->stable-baselines3[extra]) (8.1.7)\n",
            "Requirement already satisfied: requests in /usr/local/lib/python3.10/dist-packages (from autorom[accept-rom-license]~=0.6.1->stable-baselines3[extra]) (2.31.0)\n",
            "Collecting AutoROM.accept-rom-license (from autorom[accept-rom-license]~=0.6.1->stable-baselines3[extra])\n",
            "  Downloading AutoROM.accept-rom-license-0.6.1.tar.gz (434 kB)\n",
            "\u001b[2K     \u001b[90m━━━━━━━━━━━━━━━━━━━━━━━━━━━━━━━━━━━━━━━━\u001b[0m \u001b[32m434.7/434.7 kB\u001b[0m \u001b[31m50.0 MB/s\u001b[0m eta \u001b[36m0:00:00\u001b[0m\n",
            "\u001b[?25h  Installing build dependencies ... \u001b[?25l\u001b[?25hdone\n",
            "  Getting requirements to build wheel ... \u001b[?25l\u001b[?25hdone\n",
            "  Preparing metadata (pyproject.toml) ... \u001b[?25l\u001b[?25hdone\n",
            "Requirement already satisfied: typing-extensions>=4.3.0 in /usr/local/lib/python3.10/dist-packages (from gymnasium<0.30,>=0.28.1->stable-baselines3[extra]) (4.5.0)\n",
            "Collecting farama-notifications>=0.0.1 (from gymnasium<0.30,>=0.28.1->stable-baselines3[extra])\n",
            "  Using cached Farama_Notifications-0.0.4-py3-none-any.whl (2.5 kB)\n",
            "Collecting ale-py~=0.8.1 (from shimmy[atari]~=1.1.0->stable-baselines3[extra])\n",
            "  Downloading ale_py-0.8.1-cp310-cp310-manylinux_2_17_x86_64.manylinux2014_x86_64.whl (1.7 MB)\n",
            "\u001b[2K     \u001b[90m━━━━━━━━━━━━━━━━━━━━━━━━━━━━━━━━━━━━━━━━\u001b[0m \u001b[32m1.7/1.7 MB\u001b[0m \u001b[31m75.5 MB/s\u001b[0m eta \u001b[36m0:00:00\u001b[0m\n",
            "\u001b[?25hRequirement already satisfied: absl-py>=0.4 in /usr/local/lib/python3.10/dist-packages (from tensorboard>=2.9.1->stable-baselines3[extra]) (1.4.0)\n",
            "Requirement already satisfied: grpcio>=1.48.2 in /usr/local/lib/python3.10/dist-packages (from tensorboard>=2.9.1->stable-baselines3[extra]) (1.59.0)\n",
            "Requirement already satisfied: google-auth<3,>=1.6.3 in /usr/local/lib/python3.10/dist-packages (from tensorboard>=2.9.1->stable-baselines3[extra]) (2.17.3)\n",
            "Requirement already satisfied: google-auth-oauthlib<1.1,>=0.5 in /usr/local/lib/python3.10/dist-packages (from tensorboard>=2.9.1->stable-baselines3[extra]) (1.0.0)\n",
            "Requirement already satisfied: markdown>=2.6.8 in /usr/local/lib/python3.10/dist-packages (from tensorboard>=2.9.1->stable-baselines3[extra]) (3.5)\n",
            "Requirement already satisfied: protobuf>=3.19.6 in /usr/local/lib/python3.10/dist-packages (from tensorboard>=2.9.1->stable-baselines3[extra]) (3.20.3)\n",
            "Requirement already satisfied: setuptools>=41.0.0 in /usr/local/lib/python3.10/dist-packages (from tensorboard>=2.9.1->stable-baselines3[extra]) (67.7.2)\n",
            "Requirement already satisfied: six>1.9 in /usr/local/lib/python3.10/dist-packages (from tensorboard>=2.9.1->stable-baselines3[extra]) (1.16.0)\n",
            "Requirement already satisfied: tensorboard-data-server<0.8.0,>=0.7.0 in /usr/local/lib/python3.10/dist-packages (from tensorboard>=2.9.1->stable-baselines3[extra]) (0.7.2)\n",
            "Requirement already satisfied: werkzeug>=1.0.1 in /usr/local/lib/python3.10/dist-packages (from tensorboard>=2.9.1->stable-baselines3[extra]) (3.0.1)\n",
            "Requirement already satisfied: filelock in /usr/local/lib/python3.10/dist-packages (from torch>=1.13->stable-baselines3[extra]) (3.12.4)\n",
            "Requirement already satisfied: sympy in /usr/local/lib/python3.10/dist-packages (from torch>=1.13->stable-baselines3[extra]) (1.12)\n",
            "Requirement already satisfied: networkx in /usr/local/lib/python3.10/dist-packages (from torch>=1.13->stable-baselines3[extra]) (3.2)\n",
            "Requirement already satisfied: jinja2 in /usr/local/lib/python3.10/dist-packages (from torch>=1.13->stable-baselines3[extra]) (3.1.2)\n",
            "Requirement already satisfied: fsspec in /usr/local/lib/python3.10/dist-packages (from torch>=1.13->stable-baselines3[extra]) (2023.6.0)\n",
            "Requirement already satisfied: triton==2.1.0 in /usr/local/lib/python3.10/dist-packages (from torch>=1.13->stable-baselines3[extra]) (2.1.0)\n",
            "Requirement already satisfied: contourpy>=1.0.1 in /usr/local/lib/python3.10/dist-packages (from matplotlib->stable-baselines3[extra]) (1.1.1)\n",
            "Requirement already satisfied: cycler>=0.10 in /usr/local/lib/python3.10/dist-packages (from matplotlib->stable-baselines3[extra]) (0.12.1)\n",
            "Requirement already satisfied: fonttools>=4.22.0 in /usr/local/lib/python3.10/dist-packages (from matplotlib->stable-baselines3[extra]) (4.43.1)\n",
            "Requirement already satisfied: kiwisolver>=1.0.1 in /usr/local/lib/python3.10/dist-packages (from matplotlib->stable-baselines3[extra]) (1.4.5)\n",
            "Requirement already satisfied: packaging>=20.0 in /usr/local/lib/python3.10/dist-packages (from matplotlib->stable-baselines3[extra]) (23.2)\n",
            "Requirement already satisfied: pyparsing>=2.3.1 in /usr/local/lib/python3.10/dist-packages (from matplotlib->stable-baselines3[extra]) (3.1.1)\n",
            "Requirement already satisfied: python-dateutil>=2.7 in /usr/local/lib/python3.10/dist-packages (from matplotlib->stable-baselines3[extra]) (2.8.2)\n",
            "Requirement already satisfied: pytz>=2020.1 in /usr/local/lib/python3.10/dist-packages (from pandas->stable-baselines3[extra]) (2023.3.post1)\n",
            "Requirement already satisfied: markdown-it-py>=2.2.0 in /usr/local/lib/python3.10/dist-packages (from rich->stable-baselines3[extra]) (3.0.0)\n",
            "Requirement already satisfied: pygments<3.0.0,>=2.13.0 in /usr/local/lib/python3.10/dist-packages (from rich->stable-baselines3[extra]) (2.16.1)\n",
            "Requirement already satisfied: importlib-resources in /usr/local/lib/python3.10/dist-packages (from ale-py~=0.8.1->shimmy[atari]~=1.1.0->stable-baselines3[extra]) (6.1.0)\n",
            "Requirement already satisfied: cachetools<6.0,>=2.0.0 in /usr/local/lib/python3.10/dist-packages (from google-auth<3,>=1.6.3->tensorboard>=2.9.1->stable-baselines3[extra]) (5.3.2)\n",
            "Requirement already satisfied: pyasn1-modules>=0.2.1 in /usr/local/lib/python3.10/dist-packages (from google-auth<3,>=1.6.3->tensorboard>=2.9.1->stable-baselines3[extra]) (0.3.0)\n",
            "Requirement already satisfied: rsa<5,>=3.1.4 in /usr/local/lib/python3.10/dist-packages (from google-auth<3,>=1.6.3->tensorboard>=2.9.1->stable-baselines3[extra]) (4.9)\n",
            "Requirement already satisfied: requests-oauthlib>=0.7.0 in /usr/local/lib/python3.10/dist-packages (from google-auth-oauthlib<1.1,>=0.5->tensorboard>=2.9.1->stable-baselines3[extra]) (1.3.1)\n",
            "Requirement already satisfied: mdurl~=0.1 in /usr/local/lib/python3.10/dist-packages (from markdown-it-py>=2.2.0->rich->stable-baselines3[extra]) (0.1.2)\n",
            "Requirement already satisfied: charset-normalizer<4,>=2 in /usr/local/lib/python3.10/dist-packages (from requests->autorom[accept-rom-license]~=0.6.1->stable-baselines3[extra]) (3.3.1)\n",
            "Requirement already satisfied: idna<4,>=2.5 in /usr/local/lib/python3.10/dist-packages (from requests->autorom[accept-rom-license]~=0.6.1->stable-baselines3[extra]) (3.4)\n",
            "Requirement already satisfied: urllib3<3,>=1.21.1 in /usr/local/lib/python3.10/dist-packages (from requests->autorom[accept-rom-license]~=0.6.1->stable-baselines3[extra]) (2.0.7)\n",
            "Requirement already satisfied: certifi>=2017.4.17 in /usr/local/lib/python3.10/dist-packages (from requests->autorom[accept-rom-license]~=0.6.1->stable-baselines3[extra]) (2023.7.22)\n",
            "Requirement already satisfied: MarkupSafe>=2.1.1 in /usr/local/lib/python3.10/dist-packages (from werkzeug>=1.0.1->tensorboard>=2.9.1->stable-baselines3[extra]) (2.1.3)\n",
            "Requirement already satisfied: mpmath>=0.19 in /usr/local/lib/python3.10/dist-packages (from sympy->torch>=1.13->stable-baselines3[extra]) (1.3.0)\n",
            "Requirement already satisfied: pyasn1<0.6.0,>=0.4.6 in /usr/local/lib/python3.10/dist-packages (from pyasn1-modules>=0.2.1->google-auth<3,>=1.6.3->tensorboard>=2.9.1->stable-baselines3[extra]) (0.5.0)\n",
            "Requirement already satisfied: oauthlib>=3.0.0 in /usr/local/lib/python3.10/dist-packages (from requests-oauthlib>=0.7.0->google-auth-oauthlib<1.1,>=0.5->tensorboard>=2.9.1->stable-baselines3[extra]) (3.2.2)\n",
            "Building wheels for collected packages: AutoROM.accept-rom-license\n",
            "  Building wheel for AutoROM.accept-rom-license (pyproject.toml) ... \u001b[?25l\u001b[?25hdone\n",
            "  Created wheel for AutoROM.accept-rom-license: filename=AutoROM.accept_rom_license-0.6.1-py3-none-any.whl size=446660 sha256=e485a17c04330dfea8f4cbf27e8d3e84a3a1e43f0df0b8551e996826a999a173\n",
            "  Stored in directory: /root/.cache/pip/wheels/6b/1b/ef/a43ff1a2f1736d5711faa1ba4c1f61be1131b8899e6a057811\n",
            "Successfully built AutoROM.accept-rom-license\n",
            "Installing collected packages: farama-notifications, gymnasium, ale-py, shimmy, AutoROM.accept-rom-license, autorom, stable-baselines3\n",
            "Successfully installed AutoROM.accept-rom-license-0.6.1 ale-py-0.8.1 autorom-0.6.1 farama-notifications-0.0.4 gymnasium-0.29.1 shimmy-1.1.0 stable-baselines3-2.1.0\n"
          ]
        }
      ]
    },
    {
      "cell_type": "code",
      "source": [
        "# Rendering Dependencies\n",
        "!pip install gym pyvirtualdisplay > /dev/null 2>&1\n",
        "!apt-get install -y xvfb python-opengl ffmpeg > /dev/null 2>&1\n",
        "# Gym Dependencies\n",
        "!apt-get update > /dev/null 2>&1\n",
        "!apt-get install cmake > /dev/null 2>&1\n",
        "!pip install --upgrade setuptools 2>&1\n",
        "!pip install ez_setup > /dev/null 2>&1\n",
        "!pip install gym[atari] > /dev/null 2>&1\n",
        "!pip install gym[box2d] > /dev/null 2>&1"
      ],
      "metadata": {
        "colab": {
          "base_uri": "https://localhost:8080/"
        },
        "id": "4D5FRAqigy0x",
        "outputId": "55dfca43-06e1-49bc-fbda-1c53cff9cc37"
      },
      "execution_count": 2,
      "outputs": [
        {
          "output_type": "stream",
          "name": "stdout",
          "text": [
            "Requirement already satisfied: setuptools in /usr/local/lib/python3.10/dist-packages (68.2.2)\n"
          ]
        }
      ]
    },
    {
      "cell_type": "code",
      "source": [
        "import gym\n",
        "from stable_baselines3 import PPO\n",
        "from stable_baselines3.common.vec_env import DummyVecEnv\n",
        "from stable_baselines3.common.evaluation import evaluate_policy\n",
        "from gym.wrappers.record_video import RecordVideo"
      ],
      "metadata": {
        "colab": {
          "base_uri": "https://localhost:8080/"
        },
        "id": "9x4WiPf9lYXt",
        "outputId": "1cab81a4-7bc4-4969-a1df-3668aeafc39f"
      },
      "execution_count": 4,
      "outputs": [
        {
          "output_type": "stream",
          "name": "stderr",
          "text": [
            "/usr/local/lib/python3.10/dist-packages/tensorflow/python/framework/dtypes.py:35: DeprecationWarning: ml_dtypes.float8_e4m3b11 is deprecated. Use ml_dtypes.float8_e4m3b11fnuz\n",
            "  from tensorflow.tsl.python.lib.core import pywrap_ml_dtypes\n"
          ]
        }
      ]
    },
    {
      "cell_type": "code",
      "source": [
        "environment_name = \"CartPole-v0\""
      ],
      "metadata": {
        "id": "A7eUgT9JbV2P"
      },
      "execution_count": 1,
      "outputs": []
    },
    {
      "cell_type": "code",
      "source": [
        "env = gym.make(environment_name)"
      ],
      "metadata": {
        "colab": {
          "base_uri": "https://localhost:8080/"
        },
        "id": "0cf87DSDb1Lm",
        "outputId": "ee10fbb9-ed81-4b4c-9774-13056afa2ad3"
      },
      "execution_count": 5,
      "outputs": [
        {
          "output_type": "stream",
          "name": "stderr",
          "text": [
            "/usr/local/lib/python3.10/dist-packages/gym/envs/registration.py:593: UserWarning: \u001b[33mWARN: The environment CartPole-v0 is out of date. You should consider upgrading to version `v1`.\u001b[0m\n",
            "  logger.warn(\n",
            "/usr/local/lib/python3.10/dist-packages/gym/core.py:317: DeprecationWarning: \u001b[33mWARN: Initializing wrapper in old step API which returns one bool instead of two. It is recommended to set `new_step_api=True` to use new step API. This will be the default behaviour in future.\u001b[0m\n",
            "  deprecation(\n",
            "/usr/local/lib/python3.10/dist-packages/gym/wrappers/step_api_compatibility.py:39: DeprecationWarning: \u001b[33mWARN: Initializing environment in old step API which returns one bool instead of two. It is recommended to set `new_step_api=True` to use new step API. This will be the default behaviour in future.\u001b[0m\n",
            "  deprecation(\n"
          ]
        }
      ]
    },
    {
      "cell_type": "markdown",
      "source": [
        "# **Understanding The Environment**"
      ],
      "metadata": {
        "id": "wicY4bTPcPQk"
      }
    },
    {
      "cell_type": "markdown",
      "source": [
        "At any time the cart and pole are in a state, s, represented by a vector of four elements: Cart Position, Cart Velocity, Pole Angle, and Pole Velocity measured at the tip of the pole. The cart can take one of two actions: move left or move right in order to balance the pole as long as possible.\n",
        "\n",
        "Reinforcement learning places a program, called an agent, in a simulated environment where the agent’s goal is to take some action(s) which will maximize its reward. In our CartPole example, the agent receives a reward of 1 for every step taken in which the pole remains balanced on the cart. An episode ends when the pole falls over"
      ],
      "metadata": {
        "id": "WaOOSBuqBG2n"
      }
    },
    {
      "cell_type": "code",
      "source": [
        "env.action_space"
      ],
      "metadata": {
        "id": "Tbsf8ECodBvq"
      },
      "execution_count": null,
      "outputs": []
    },
    {
      "cell_type": "code",
      "source": [
        "# 0-push cart to left, 1-push cart to the right\n",
        "env.action_space.sample()"
      ],
      "metadata": {
        "colab": {
          "base_uri": "https://localhost:8080/"
        },
        "id": "CIjEUU9XcRbs",
        "outputId": "2ecd7411-959f-4ac1-8329-1b56415ae569"
      },
      "execution_count": 6,
      "outputs": [
        {
          "output_type": "execute_result",
          "data": {
            "text/plain": [
              "1"
            ]
          },
          "metadata": {},
          "execution_count": 6
        }
      ]
    },
    {
      "cell_type": "code",
      "source": [
        "env.reset()"
      ],
      "metadata": {
        "colab": {
          "base_uri": "https://localhost:8080/"
        },
        "id": "02ozQIdSdLaa",
        "outputId": "27da2190-2b85-420d-c062-b4cfe8ec4dfa"
      },
      "execution_count": 7,
      "outputs": [
        {
          "output_type": "execute_result",
          "data": {
            "text/plain": [
              "array([5.3490783e-07, 5.3185611e-03, 3.5888184e-02, 2.5545273e-02],\n",
              "      dtype=float32)"
            ]
          },
          "metadata": {},
          "execution_count": 7
        }
      ]
    },
    {
      "cell_type": "markdown",
      "source": [],
      "metadata": {
        "id": "w6MYI_YP08FP"
      }
    },
    {
      "cell_type": "code",
      "source": [
        "# [cart position, cart velocity, pole angle, pole angular velocity]\n",
        "env.observation_space.sample()"
      ],
      "metadata": {
        "colab": {
          "base_uri": "https://localhost:8080/"
        },
        "id": "53xlU7L-cbyM",
        "outputId": "5787d7bf-f489-4e8d-f6f3-cfc8c558c4b1"
      },
      "execution_count": 8,
      "outputs": [
        {
          "output_type": "execute_result",
          "data": {
            "text/plain": [
              "array([8.4927511e-01, 3.1260355e+38, 1.7961399e-01, 1.8119396e+38],\n",
              "      dtype=float32)"
            ]
          },
          "metadata": {},
          "execution_count": 8
        }
      ]
    },
    {
      "cell_type": "code",
      "source": [
        "#The following code is for rendering on Colab. Do not need this for Jupyter notebook\n",
        "\n",
        "import gym\n",
        "from gym import logger as gymlogger\n",
        "from gym.wrappers.record_video import RecordVideo\n",
        "gymlogger.set_level(40) #error only\n",
        "import tensorflow as tf\n",
        "import numpy as np\n",
        "import random\n",
        "import matplotlib\n",
        "import matplotlib.pyplot as plt\n",
        "%matplotlib inline\n",
        "import math\n",
        "import glob\n",
        "import io\n",
        "import base64\n",
        "from IPython.display import HTML\n",
        "\n",
        "from IPython import display as ipythondisplay\n",
        "\n",
        "# Google Colab needs to render the environment to a virtual display\n",
        "# we will record this as a video and play it after the training has finished\n",
        "env = gym.make('CartPole-v1', render_mode=\"rgb_array\")\n",
        "env = RecordVideo(env, './video',  episode_trigger = lambda episode_number: True)\n",
        "env.reset()\n",
        "\n",
        "\"\"\"\n",
        "Utility functions to enable video recording of gym environment and displaying it\n",
        "To enable video, just do \"env = wrap_env(env)\"\"\n",
        "\"\"\"\n",
        "\n",
        "def show_video(mp4_filename):\n",
        "  mp4list = glob.glob('video/*.mp4')\n",
        "  if len(mp4list) > 0:\n",
        "    mp4 = mp4list[-1]\n",
        "    if mp4_filename:\n",
        "      print(mp4)\n",
        "      mp4 = mp4_filename\n",
        "\n",
        "    video = io.open(mp4, 'r+b').read()\n",
        "    encoded = base64.b64encode(video)\n",
        "    ipythondisplay.display(HTML(data='''<video alt=\"test\" autoplay\n",
        "                controls style=\"height: 400px;\">\n",
        "                <source src=\"data:video/mp4;base64,{0}\" type=\"video/mp4\" />\n",
        "             </video>'''.format(encoded.decode('ascii'))))\n",
        "  else:\n",
        "    print(\"Could not find video\")"
      ],
      "metadata": {
        "id": "tfvQFl5_mFP7"
      },
      "execution_count": 9,
      "outputs": []
    },
    {
      "cell_type": "code",
      "source": [
        "#This code simply takes random actions, just for your understanding of the our RL algorithms work\n",
        "env = gym.make('CartPole-v1', render_mode=\"rgb_array\")\n",
        "env = RecordVideo(env, './video',  episode_trigger = lambda episode_number: True)\n",
        "env.reset()\n",
        "\n",
        "episodes = 10\n",
        "for episode in range(1, episodes+1):\n",
        "    state = env.reset()\n",
        "    done = False\n",
        "    score = 0\n",
        "\n",
        "    while not done:\n",
        "        env.render()\n",
        "        action = env.action_space.sample()\n",
        "        n_state, reward, done, info = env.step(action)\n",
        "        score+=reward\n",
        "    print('Episode:{} Score:{}'.format(episode, score))\n",
        "env.close()"
      ],
      "metadata": {
        "colab": {
          "base_uri": "https://localhost:8080/"
        },
        "id": "7kGX8q92cjhd",
        "outputId": "81581f42-8aeb-41d4-b2ca-2f2f4e90fb1c"
      },
      "execution_count": 10,
      "outputs": [
        {
          "output_type": "stream",
          "name": "stdout",
          "text": [
            "Episode:1 Score:38.0\n",
            "Episode:2 Score:14.0\n",
            "Episode:3 Score:76.0\n",
            "Episode:4 Score:31.0\n",
            "Episode:5 Score:26.0\n",
            "Episode:6 Score:52.0\n",
            "Episode:7 Score:19.0\n",
            "Episode:8 Score:13.0\n",
            "Episode:9 Score:28.0\n",
            "Episode:10 Score:13.0\n"
          ]
        }
      ]
    },
    {
      "cell_type": "code",
      "source": [
        "show_video('video/rl-video-episode-9.mp4')  #only shows the last run"
      ],
      "metadata": {
        "colab": {
          "base_uri": "https://localhost:8080/",
          "height": 493
        },
        "id": "zdiGflNPl0Lc",
        "outputId": "92a1b570-51e0-4537-965b-61cf8c064ca3"
      },
      "execution_count": 11,
      "outputs": [
        {
          "output_type": "stream",
          "name": "stdout",
          "text": [
            "video/rl-video-episode-4.mp4\n"
          ]
        },
        {
          "output_type": "stream",
          "name": "stderr",
          "text": [
            "/usr/local/lib/python3.10/dist-packages/ipykernel/ipkernel.py:283: DeprecationWarning: `should_run_async` will not call `transform_cell` automatically in the future. Please pass the result to `transformed_cell` argument and any exception that happen during thetransform in `preprocessing_exc_tuple` in IPython 7.17 and above.\n",
            "  and should_run_async(code)\n"
          ]
        },
        {
          "output_type": "display_data",
          "data": {
            "text/plain": [
              "<IPython.core.display.HTML object>"
            ],
            "text/html": [
              "<video alt=\"test\" autoplay \n",
              "                controls style=\"height: 400px;\">\n",
              "                <source src=\"data:video/mp4;base64,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\" type=\"video/mp4\" />\n",
              "             </video>"
            ]
          },
          "metadata": {}
        }
      ]
    },
    {
      "cell_type": "markdown",
      "source": [
        "![C1.png](data:image/png;base64,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)"
      ],
      "metadata": {
        "id": "_88cH_9mAM8o"
      }
    },
    {
      "cell_type": "markdown",
      "source": [
        "# **Train an RL Model**"
      ],
      "metadata": {
        "id": "9kPThyjkMv9t"
      }
    },
    {
      "cell_type": "code",
      "source": [
        "#If this code block gives error, try the Vectorized environment\n",
        "env = gym.make(environment_name)\n",
        "env = DummyVecEnv([lambda: env])\n",
        "model = PPO('MlpPolicy', env, verbose = 1)\n",
        "model.learn(total_timesteps=20000)"
      ],
      "metadata": {
        "colab": {
          "base_uri": "https://localhost:8080/"
        },
        "id": "GWAx54a9utlR",
        "outputId": "51710b61-6f4f-4a83-baef-dcea8c74cfd4"
      },
      "execution_count": 47,
      "outputs": [
        {
          "output_type": "stream",
          "name": "stderr",
          "text": [
            "/usr/local/lib/python3.10/dist-packages/gymnasium/envs/registration.py:513: DeprecationWarning: \u001b[33mWARN: The environment CartPole-v0 is out of date. You should consider upgrading to version `v1`.\u001b[0m\n",
            "  logger.deprecation(\n"
          ]
        },
        {
          "output_type": "stream",
          "name": "stdout",
          "text": [
            "Using cuda device\n",
            "-----------------------------\n",
            "| time/              |      |\n",
            "|    fps             | 527  |\n",
            "|    iterations      | 1    |\n",
            "|    time_elapsed    | 3    |\n",
            "|    total_timesteps | 2048 |\n",
            "-----------------------------\n",
            "-----------------------------------------\n",
            "| time/                   |             |\n",
            "|    fps                  | 473         |\n",
            "|    iterations           | 2           |\n",
            "|    time_elapsed         | 8           |\n",
            "|    total_timesteps      | 4096        |\n",
            "| train/                  |             |\n",
            "|    approx_kl            | 0.008098362 |\n",
            "|    clip_fraction        | 0.108       |\n",
            "|    clip_range           | 0.2         |\n",
            "|    entropy_loss         | -0.686      |\n",
            "|    explained_variance   | 0.00297     |\n",
            "|    learning_rate        | 0.0003      |\n",
            "|    loss                 | 8.25        |\n",
            "|    n_updates            | 10          |\n",
            "|    policy_gradient_loss | -0.0167     |\n",
            "|    value_loss           | 53.7        |\n",
            "-----------------------------------------\n",
            "------------------------------------------\n",
            "| time/                   |              |\n",
            "|    fps                  | 471          |\n",
            "|    iterations           | 3            |\n",
            "|    time_elapsed         | 13           |\n",
            "|    total_timesteps      | 6144         |\n",
            "| train/                  |              |\n",
            "|    approx_kl            | 0.0092846155 |\n",
            "|    clip_fraction        | 0.0521       |\n",
            "|    clip_range           | 0.2          |\n",
            "|    entropy_loss         | -0.665       |\n",
            "|    explained_variance   | 0.0776       |\n",
            "|    learning_rate        | 0.0003       |\n",
            "|    loss                 | 13.1         |\n",
            "|    n_updates            | 20           |\n",
            "|    policy_gradient_loss | -0.0151      |\n",
            "|    value_loss           | 38.1         |\n",
            "------------------------------------------\n",
            "-----------------------------------------\n",
            "| time/                   |             |\n",
            "|    fps                  | 451         |\n",
            "|    iterations           | 4           |\n",
            "|    time_elapsed         | 18          |\n",
            "|    total_timesteps      | 8192        |\n",
            "| train/                  |             |\n",
            "|    approx_kl            | 0.008397283 |\n",
            "|    clip_fraction        | 0.103       |\n",
            "|    clip_range           | 0.2         |\n",
            "|    entropy_loss         | -0.635      |\n",
            "|    explained_variance   | 0.233       |\n",
            "|    learning_rate        | 0.0003      |\n",
            "|    loss                 | 23.8        |\n",
            "|    n_updates            | 30          |\n",
            "|    policy_gradient_loss | -0.0234     |\n",
            "|    value_loss           | 51.9        |\n",
            "-----------------------------------------\n",
            "-----------------------------------------\n",
            "| time/                   |             |\n",
            "|    fps                  | 454         |\n",
            "|    iterations           | 5           |\n",
            "|    time_elapsed         | 22          |\n",
            "|    total_timesteps      | 10240       |\n",
            "| train/                  |             |\n",
            "|    approx_kl            | 0.009868935 |\n",
            "|    clip_fraction        | 0.0799      |\n",
            "|    clip_range           | 0.2         |\n",
            "|    entropy_loss         | -0.605      |\n",
            "|    explained_variance   | 0.331       |\n",
            "|    learning_rate        | 0.0003      |\n",
            "|    loss                 | 25.5        |\n",
            "|    n_updates            | 40          |\n",
            "|    policy_gradient_loss | -0.0171     |\n",
            "|    value_loss           | 62.4        |\n",
            "-----------------------------------------\n",
            "-----------------------------------------\n",
            "| time/                   |             |\n",
            "|    fps                  | 456         |\n",
            "|    iterations           | 6           |\n",
            "|    time_elapsed         | 26          |\n",
            "|    total_timesteps      | 12288       |\n",
            "| train/                  |             |\n",
            "|    approx_kl            | 0.007334358 |\n",
            "|    clip_fraction        | 0.0797      |\n",
            "|    clip_range           | 0.2         |\n",
            "|    entropy_loss         | -0.603      |\n",
            "|    explained_variance   | 0.558       |\n",
            "|    learning_rate        | 0.0003      |\n",
            "|    loss                 | 31.5        |\n",
            "|    n_updates            | 50          |\n",
            "|    policy_gradient_loss | -0.0131     |\n",
            "|    value_loss           | 49.3        |\n",
            "-----------------------------------------\n",
            "-----------------------------------------\n",
            "| time/                   |             |\n",
            "|    fps                  | 447         |\n",
            "|    iterations           | 7           |\n",
            "|    time_elapsed         | 32          |\n",
            "|    total_timesteps      | 14336       |\n",
            "| train/                  |             |\n",
            "|    approx_kl            | 0.007193571 |\n",
            "|    clip_fraction        | 0.0551      |\n",
            "|    clip_range           | 0.2         |\n",
            "|    entropy_loss         | -0.591      |\n",
            "|    explained_variance   | 0.58        |\n",
            "|    learning_rate        | 0.0003      |\n",
            "|    loss                 | 27          |\n",
            "|    n_updates            | 60          |\n",
            "|    policy_gradient_loss | -0.00881    |\n",
            "|    value_loss           | 50.3        |\n",
            "-----------------------------------------\n",
            "-----------------------------------------\n",
            "| time/                   |             |\n",
            "|    fps                  | 450         |\n",
            "|    iterations           | 8           |\n",
            "|    time_elapsed         | 36          |\n",
            "|    total_timesteps      | 16384       |\n",
            "| train/                  |             |\n",
            "|    approx_kl            | 0.007098051 |\n",
            "|    clip_fraction        | 0.0784      |\n",
            "|    clip_range           | 0.2         |\n",
            "|    entropy_loss         | -0.6        |\n",
            "|    explained_variance   | 0.682       |\n",
            "|    learning_rate        | 0.0003      |\n",
            "|    loss                 | 16.6        |\n",
            "|    n_updates            | 70          |\n",
            "|    policy_gradient_loss | -0.00946    |\n",
            "|    value_loss           | 50.1        |\n",
            "-----------------------------------------\n",
            "-----------------------------------------\n",
            "| time/                   |             |\n",
            "|    fps                  | 451         |\n",
            "|    iterations           | 9           |\n",
            "|    time_elapsed         | 40          |\n",
            "|    total_timesteps      | 18432       |\n",
            "| train/                  |             |\n",
            "|    approx_kl            | 0.007123752 |\n",
            "|    clip_fraction        | 0.0628      |\n",
            "|    clip_range           | 0.2         |\n",
            "|    entropy_loss         | -0.573      |\n",
            "|    explained_variance   | 0.67        |\n",
            "|    learning_rate        | 0.0003      |\n",
            "|    loss                 | 15.8        |\n",
            "|    n_updates            | 80          |\n",
            "|    policy_gradient_loss | -0.0132     |\n",
            "|    value_loss           | 50.6        |\n",
            "-----------------------------------------\n",
            "----------------------------------------\n",
            "| time/                   |            |\n",
            "|    fps                  | 448        |\n",
            "|    iterations           | 10         |\n",
            "|    time_elapsed         | 45         |\n",
            "|    total_timesteps      | 20480      |\n",
            "| train/                  |            |\n",
            "|    approx_kl            | 0.00966551 |\n",
            "|    clip_fraction        | 0.107      |\n",
            "|    clip_range           | 0.2        |\n",
            "|    entropy_loss         | -0.573     |\n",
            "|    explained_variance   | 0.798      |\n",
            "|    learning_rate        | 0.0003     |\n",
            "|    loss                 | 5.93       |\n",
            "|    n_updates            | 90         |\n",
            "|    policy_gradient_loss | -0.0122    |\n",
            "|    value_loss           | 27.4       |\n",
            "----------------------------------------\n"
          ]
        },
        {
          "output_type": "execute_result",
          "data": {
            "text/plain": [
              "<stable_baselines3.ppo.ppo.PPO at 0x78674690ba60>"
            ]
          },
          "metadata": {},
          "execution_count": 47
        }
      ]
    },
    {
      "cell_type": "code",
      "source": [
        "import gymnasium as gym\n",
        "\n",
        "from stable_baselines3 import PPO\n",
        "from stable_baselines3.common.env_util import make_vec_env\n",
        "\n",
        "# Parallel environments\n",
        "vec_env = make_vec_env(\"CartPole-v1\", n_envs=4)\n",
        "\n",
        "model = PPO(\"MlpPolicy\", vec_env, verbose=1)\n",
        "model.learn(total_timesteps=25000)\n"
      ],
      "metadata": {
        "colab": {
          "base_uri": "https://localhost:8080/"
        },
        "id": "bX98lXKzIeU3",
        "outputId": "ad420c61-d5e7-436a-9fee-8a463a581036"
      },
      "execution_count": 14,
      "outputs": [
        {
          "output_type": "stream",
          "name": "stdout",
          "text": [
            "Using cuda device\n",
            "---------------------------------\n",
            "| rollout/           |          |\n",
            "|    ep_len_mean     | 22.2     |\n",
            "|    ep_rew_mean     | 22.2     |\n",
            "| time/              |          |\n",
            "|    fps             | 2296     |\n",
            "|    iterations      | 1        |\n",
            "|    time_elapsed    | 3        |\n",
            "|    total_timesteps | 8192     |\n",
            "---------------------------------\n",
            "-----------------------------------------\n",
            "| rollout/                |             |\n",
            "|    ep_len_mean          | 32.7        |\n",
            "|    ep_rew_mean          | 32.7        |\n",
            "| time/                   |             |\n",
            "|    fps                  | 1285        |\n",
            "|    iterations           | 2           |\n",
            "|    time_elapsed         | 12          |\n",
            "|    total_timesteps      | 16384       |\n",
            "| train/                  |             |\n",
            "|    approx_kl            | 0.013982605 |\n",
            "|    clip_fraction        | 0.198       |\n",
            "|    clip_range           | 0.2         |\n",
            "|    entropy_loss         | -0.682      |\n",
            "|    explained_variance   | -0.000615   |\n",
            "|    learning_rate        | 0.0003      |\n",
            "|    loss                 | 3.48        |\n",
            "|    n_updates            | 10          |\n",
            "|    policy_gradient_loss | -0.0234     |\n",
            "|    value_loss           | 20.3        |\n",
            "-----------------------------------------\n",
            "-----------------------------------------\n",
            "| rollout/                |             |\n",
            "|    ep_len_mean          | 76.1        |\n",
            "|    ep_rew_mean          | 76.1        |\n",
            "| time/                   |             |\n",
            "|    fps                  | 1062        |\n",
            "|    iterations           | 3           |\n",
            "|    time_elapsed         | 23          |\n",
            "|    total_timesteps      | 24576       |\n",
            "| train/                  |             |\n",
            "|    approx_kl            | 0.015879352 |\n",
            "|    clip_fraction        | 0.194       |\n",
            "|    clip_range           | 0.2         |\n",
            "|    entropy_loss         | -0.644      |\n",
            "|    explained_variance   | 0.396       |\n",
            "|    learning_rate        | 0.0003      |\n",
            "|    loss                 | 13.6        |\n",
            "|    n_updates            | 20          |\n",
            "|    policy_gradient_loss | -0.0345     |\n",
            "|    value_loss           | 28          |\n",
            "-----------------------------------------\n",
            "-----------------------------------------\n",
            "| rollout/                |             |\n",
            "|    ep_len_mean          | 109         |\n",
            "|    ep_rew_mean          | 109         |\n",
            "| time/                   |             |\n",
            "|    fps                  | 1018        |\n",
            "|    iterations           | 4           |\n",
            "|    time_elapsed         | 32          |\n",
            "|    total_timesteps      | 32768       |\n",
            "| train/                  |             |\n",
            "|    approx_kl            | 0.012623574 |\n",
            "|    clip_fraction        | 0.15        |\n",
            "|    clip_range           | 0.2         |\n",
            "|    entropy_loss         | -0.601      |\n",
            "|    explained_variance   | 0.377       |\n",
            "|    learning_rate        | 0.0003      |\n",
            "|    loss                 | 19.5        |\n",
            "|    n_updates            | 30          |\n",
            "|    policy_gradient_loss | -0.0262     |\n",
            "|    value_loss           | 44.2        |\n",
            "-----------------------------------------\n"
          ]
        },
        {
          "output_type": "execute_result",
          "data": {
            "text/plain": [
              "<stable_baselines3.ppo.ppo.PPO at 0x7867475cb100>"
            ]
          },
          "metadata": {},
          "execution_count": 14
        }
      ]
    },
    {
      "cell_type": "markdown",
      "source": [
        "# Saving and Reloading Model"
      ],
      "metadata": {
        "id": "DAeiA0zRUUgw"
      }
    },
    {
      "cell_type": "code",
      "source": [
        "Model_path = '/content/ppo_cartpole1'\n",
        "model.save(Model_path)\n",
        "\n",
        "del model # remove to demonstrate saving and loading\n",
        "\n",
        "model = PPO.load(Model_path, env=vec_env)\n",
        ""
      ],
      "metadata": {
        "id": "9resXwZATYlq"
      },
      "execution_count": 58,
      "outputs": []
    },
    {
      "cell_type": "markdown",
      "source": [
        "# Evaluate Model"
      ],
      "metadata": {
        "id": "Z77mlK81k7Pt"
      }
    },
    {
      "cell_type": "code",
      "source": [
        "from stable_baselines3.common.evaluation import evaluate_policy"
      ],
      "metadata": {
        "id": "nRU7erYFk4fE"
      },
      "execution_count": 23,
      "outputs": []
    },
    {
      "cell_type": "code",
      "source": [
        "evaluate_policy(model, vec_env, n_eval_episodes=10, render=True)"
      ],
      "metadata": {
        "colab": {
          "base_uri": "https://localhost:8080/"
        },
        "id": "BeO2pdlPk-qc",
        "outputId": "78b4d543-e244-4718-9bce-6bbbd7405429"
      },
      "execution_count": 52,
      "outputs": [
        {
          "output_type": "execute_result",
          "data": {
            "text/plain": [
              "(500.0, 0.0)"
            ]
          },
          "metadata": {},
          "execution_count": 52
        }
      ]
    },
    {
      "cell_type": "code",
      "source": [
        "vec_env.close()"
      ],
      "metadata": {
        "id": "xmlFFD4tlvAH"
      },
      "execution_count": 132,
      "outputs": []
    }
  ]
}