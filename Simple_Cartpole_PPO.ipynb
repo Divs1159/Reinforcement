{
  "nbformat": 4,
  "nbformat_minor": 0,
  "metadata": {
    "colab": {
      "provenance": [],
      "gpuType": "T4",
      "authorship_tag": "ABX9TyPALAykoTvYgImhjsNtTb3b",
      "include_colab_link": true
    },
    "kernelspec": {
      "name": "python3",
      "display_name": "Python 3"
    },
    "language_info": {
      "name": "python"
    },
    "accelerator": "GPU"
  },
  "cells": [
    {
      "cell_type": "markdown",
      "metadata": {
        "id": "view-in-github",
        "colab_type": "text"
      },
      "source": [
        "<a href=\"https://colab.research.google.com/github/Divs1159/Reinforcement/blob/main/Simple_Cartpole_PPO.ipynb\" target=\"_parent\"><img src=\"https://colab.research.google.com/assets/colab-badge.svg\" alt=\"Open In Colab\"/></a>"
      ]
    },
    {
      "cell_type": "code",
      "execution_count": 1,
      "metadata": {
        "colab": {
          "base_uri": "https://localhost:8080/"
        },
        "id": "B9KmKXBFW_MZ",
        "outputId": "5b11d3a2-46c1-4a48-8ecf-e524b05c1beb"
      },
      "outputs": [
        {
          "output_type": "stream",
          "name": "stdout",
          "text": [
            "Requirement already satisfied: stable-baselines3[extra] in /usr/local/lib/python3.10/dist-packages (2.1.0)\n",
            "Requirement already satisfied: gymnasium<0.30,>=0.28.1 in /usr/local/lib/python3.10/dist-packages (from stable-baselines3[extra]) (0.29.1)\n",
            "Requirement already satisfied: numpy>=1.20 in /usr/local/lib/python3.10/dist-packages (from stable-baselines3[extra]) (1.23.5)\n",
            "Requirement already satisfied: torch>=1.13 in /usr/local/lib/python3.10/dist-packages (from stable-baselines3[extra]) (2.1.0+cu118)\n",
            "Requirement already satisfied: cloudpickle in /usr/local/lib/python3.10/dist-packages (from stable-baselines3[extra]) (2.2.1)\n",
            "Requirement already satisfied: pandas in /usr/local/lib/python3.10/dist-packages (from stable-baselines3[extra]) (1.5.3)\n",
            "Requirement already satisfied: matplotlib in /usr/local/lib/python3.10/dist-packages (from stable-baselines3[extra]) (3.7.1)\n",
            "Requirement already satisfied: opencv-python in /usr/local/lib/python3.10/dist-packages (from stable-baselines3[extra]) (4.8.0.76)\n",
            "Requirement already satisfied: pygame in /usr/local/lib/python3.10/dist-packages (from stable-baselines3[extra]) (2.5.2)\n",
            "Requirement already satisfied: tensorboard>=2.9.1 in /usr/local/lib/python3.10/dist-packages (from stable-baselines3[extra]) (2.14.1)\n",
            "Requirement already satisfied: psutil in /usr/local/lib/python3.10/dist-packages (from stable-baselines3[extra]) (5.9.5)\n",
            "Requirement already satisfied: tqdm in /usr/local/lib/python3.10/dist-packages (from stable-baselines3[extra]) (4.66.1)\n",
            "Requirement already satisfied: rich in /usr/local/lib/python3.10/dist-packages (from stable-baselines3[extra]) (13.6.0)\n",
            "Requirement already satisfied: shimmy[atari]~=1.1.0 in /usr/local/lib/python3.10/dist-packages (from stable-baselines3[extra]) (1.1.0)\n",
            "Requirement already satisfied: pillow in /usr/local/lib/python3.10/dist-packages (from stable-baselines3[extra]) (9.4.0)\n",
            "Requirement already satisfied: autorom[accept-rom-license]~=0.6.1 in /usr/local/lib/python3.10/dist-packages (from stable-baselines3[extra]) (0.6.1)\n",
            "Requirement already satisfied: click in /usr/local/lib/python3.10/dist-packages (from autorom[accept-rom-license]~=0.6.1->stable-baselines3[extra]) (8.1.7)\n",
            "Requirement already satisfied: requests in /usr/local/lib/python3.10/dist-packages (from autorom[accept-rom-license]~=0.6.1->stable-baselines3[extra]) (2.31.0)\n",
            "Requirement already satisfied: AutoROM.accept-rom-license in /usr/local/lib/python3.10/dist-packages (from autorom[accept-rom-license]~=0.6.1->stable-baselines3[extra]) (0.6.1)\n",
            "Requirement already satisfied: typing-extensions>=4.3.0 in /usr/local/lib/python3.10/dist-packages (from gymnasium<0.30,>=0.28.1->stable-baselines3[extra]) (4.5.0)\n",
            "Requirement already satisfied: farama-notifications>=0.0.1 in /usr/local/lib/python3.10/dist-packages (from gymnasium<0.30,>=0.28.1->stable-baselines3[extra]) (0.0.4)\n",
            "Collecting ale-py~=0.8.1 (from shimmy[atari]~=1.1.0->stable-baselines3[extra])\n",
            "  Using cached ale_py-0.8.1-cp310-cp310-manylinux_2_17_x86_64.manylinux2014_x86_64.whl (1.7 MB)\n",
            "Requirement already satisfied: absl-py>=0.4 in /usr/local/lib/python3.10/dist-packages (from tensorboard>=2.9.1->stable-baselines3[extra]) (1.4.0)\n",
            "Requirement already satisfied: grpcio>=1.48.2 in /usr/local/lib/python3.10/dist-packages (from tensorboard>=2.9.1->stable-baselines3[extra]) (1.59.0)\n",
            "Requirement already satisfied: google-auth<3,>=1.6.3 in /usr/local/lib/python3.10/dist-packages (from tensorboard>=2.9.1->stable-baselines3[extra]) (2.17.3)\n",
            "Requirement already satisfied: google-auth-oauthlib<1.1,>=0.5 in /usr/local/lib/python3.10/dist-packages (from tensorboard>=2.9.1->stable-baselines3[extra]) (1.0.0)\n",
            "Requirement already satisfied: markdown>=2.6.8 in /usr/local/lib/python3.10/dist-packages (from tensorboard>=2.9.1->stable-baselines3[extra]) (3.5)\n",
            "Requirement already satisfied: protobuf>=3.19.6 in /usr/local/lib/python3.10/dist-packages (from tensorboard>=2.9.1->stable-baselines3[extra]) (3.20.3)\n",
            "Requirement already satisfied: setuptools>=41.0.0 in /usr/local/lib/python3.10/dist-packages (from tensorboard>=2.9.1->stable-baselines3[extra]) (68.2.2)\n",
            "Requirement already satisfied: six>1.9 in /usr/local/lib/python3.10/dist-packages (from tensorboard>=2.9.1->stable-baselines3[extra]) (1.16.0)\n",
            "Requirement already satisfied: tensorboard-data-server<0.8.0,>=0.7.0 in /usr/local/lib/python3.10/dist-packages (from tensorboard>=2.9.1->stable-baselines3[extra]) (0.7.2)\n",
            "Requirement already satisfied: werkzeug>=1.0.1 in /usr/local/lib/python3.10/dist-packages (from tensorboard>=2.9.1->stable-baselines3[extra]) (3.0.1)\n",
            "Requirement already satisfied: filelock in /usr/local/lib/python3.10/dist-packages (from torch>=1.13->stable-baselines3[extra]) (3.12.4)\n",
            "Requirement already satisfied: sympy in /usr/local/lib/python3.10/dist-packages (from torch>=1.13->stable-baselines3[extra]) (1.12)\n",
            "Requirement already satisfied: networkx in /usr/local/lib/python3.10/dist-packages (from torch>=1.13->stable-baselines3[extra]) (3.2)\n",
            "Requirement already satisfied: jinja2 in /usr/local/lib/python3.10/dist-packages (from torch>=1.13->stable-baselines3[extra]) (3.1.2)\n",
            "Requirement already satisfied: fsspec in /usr/local/lib/python3.10/dist-packages (from torch>=1.13->stable-baselines3[extra]) (2023.6.0)\n",
            "Requirement already satisfied: triton==2.1.0 in /usr/local/lib/python3.10/dist-packages (from torch>=1.13->stable-baselines3[extra]) (2.1.0)\n",
            "Requirement already satisfied: contourpy>=1.0.1 in /usr/local/lib/python3.10/dist-packages (from matplotlib->stable-baselines3[extra]) (1.1.1)\n",
            "Requirement already satisfied: cycler>=0.10 in /usr/local/lib/python3.10/dist-packages (from matplotlib->stable-baselines3[extra]) (0.12.1)\n",
            "Requirement already satisfied: fonttools>=4.22.0 in /usr/local/lib/python3.10/dist-packages (from matplotlib->stable-baselines3[extra]) (4.43.1)\n",
            "Requirement already satisfied: kiwisolver>=1.0.1 in /usr/local/lib/python3.10/dist-packages (from matplotlib->stable-baselines3[extra]) (1.4.5)\n",
            "Requirement already satisfied: packaging>=20.0 in /usr/local/lib/python3.10/dist-packages (from matplotlib->stable-baselines3[extra]) (23.2)\n",
            "Requirement already satisfied: pyparsing>=2.3.1 in /usr/local/lib/python3.10/dist-packages (from matplotlib->stable-baselines3[extra]) (3.1.1)\n",
            "Requirement already satisfied: python-dateutil>=2.7 in /usr/local/lib/python3.10/dist-packages (from matplotlib->stable-baselines3[extra]) (2.8.2)\n",
            "Requirement already satisfied: pytz>=2020.1 in /usr/local/lib/python3.10/dist-packages (from pandas->stable-baselines3[extra]) (2023.3.post1)\n",
            "Requirement already satisfied: markdown-it-py>=2.2.0 in /usr/local/lib/python3.10/dist-packages (from rich->stable-baselines3[extra]) (3.0.0)\n",
            "Requirement already satisfied: pygments<3.0.0,>=2.13.0 in /usr/local/lib/python3.10/dist-packages (from rich->stable-baselines3[extra]) (2.16.1)\n",
            "Requirement already satisfied: importlib-resources in /usr/local/lib/python3.10/dist-packages (from ale-py~=0.8.1->shimmy[atari]~=1.1.0->stable-baselines3[extra]) (6.1.0)\n",
            "Requirement already satisfied: cachetools<6.0,>=2.0.0 in /usr/local/lib/python3.10/dist-packages (from google-auth<3,>=1.6.3->tensorboard>=2.9.1->stable-baselines3[extra]) (5.3.2)\n",
            "Requirement already satisfied: pyasn1-modules>=0.2.1 in /usr/local/lib/python3.10/dist-packages (from google-auth<3,>=1.6.3->tensorboard>=2.9.1->stable-baselines3[extra]) (0.3.0)\n",
            "Requirement already satisfied: rsa<5,>=3.1.4 in /usr/local/lib/python3.10/dist-packages (from google-auth<3,>=1.6.3->tensorboard>=2.9.1->stable-baselines3[extra]) (4.9)\n",
            "Requirement already satisfied: requests-oauthlib>=0.7.0 in /usr/local/lib/python3.10/dist-packages (from google-auth-oauthlib<1.1,>=0.5->tensorboard>=2.9.1->stable-baselines3[extra]) (1.3.1)\n",
            "Requirement already satisfied: mdurl~=0.1 in /usr/local/lib/python3.10/dist-packages (from markdown-it-py>=2.2.0->rich->stable-baselines3[extra]) (0.1.2)\n",
            "Requirement already satisfied: charset-normalizer<4,>=2 in /usr/local/lib/python3.10/dist-packages (from requests->autorom[accept-rom-license]~=0.6.1->stable-baselines3[extra]) (3.3.1)\n",
            "Requirement already satisfied: idna<4,>=2.5 in /usr/local/lib/python3.10/dist-packages (from requests->autorom[accept-rom-license]~=0.6.1->stable-baselines3[extra]) (3.4)\n",
            "Requirement already satisfied: urllib3<3,>=1.21.1 in /usr/local/lib/python3.10/dist-packages (from requests->autorom[accept-rom-license]~=0.6.1->stable-baselines3[extra]) (2.0.7)\n",
            "Requirement already satisfied: certifi>=2017.4.17 in /usr/local/lib/python3.10/dist-packages (from requests->autorom[accept-rom-license]~=0.6.1->stable-baselines3[extra]) (2023.7.22)\n",
            "Requirement already satisfied: MarkupSafe>=2.1.1 in /usr/local/lib/python3.10/dist-packages (from werkzeug>=1.0.1->tensorboard>=2.9.1->stable-baselines3[extra]) (2.1.3)\n",
            "Requirement already satisfied: mpmath>=0.19 in /usr/local/lib/python3.10/dist-packages (from sympy->torch>=1.13->stable-baselines3[extra]) (1.3.0)\n",
            "Requirement already satisfied: pyasn1<0.6.0,>=0.4.6 in /usr/local/lib/python3.10/dist-packages (from pyasn1-modules>=0.2.1->google-auth<3,>=1.6.3->tensorboard>=2.9.1->stable-baselines3[extra]) (0.5.0)\n",
            "Requirement already satisfied: oauthlib>=3.0.0 in /usr/local/lib/python3.10/dist-packages (from requests-oauthlib>=0.7.0->google-auth-oauthlib<1.1,>=0.5->tensorboard>=2.9.1->stable-baselines3[extra]) (3.2.2)\n",
            "Installing collected packages: ale-py\n",
            "  Attempting uninstall: ale-py\n",
            "    Found existing installation: ale-py 0.7.5\n",
            "    Uninstalling ale-py-0.7.5:\n",
            "      Successfully uninstalled ale-py-0.7.5\n",
            "Successfully installed ale-py-0.8.1\n"
          ]
        }
      ],
      "source": [
        "!pip install stable-baselines3[extra]"
      ]
    },
    {
      "cell_type": "code",
      "source": [
        "# Rendering Dependencies\n",
        "!pip install gym pyvirtualdisplay > /dev/null 2>&1\n",
        "!apt-get install -y xvfb python-opengl ffmpeg > /dev/null 2>&1\n",
        "# Gym Dependencies\n",
        "!apt-get update > /dev/null 2>&1\n",
        "!apt-get install cmake > /dev/null 2>&1\n",
        "!pip install --upgrade setuptools 2>&1\n",
        "!pip install ez_setup > /dev/null 2>&1\n",
        "!pip install gym[atari] > /dev/null 2>&1\n",
        "!pip install gym[box2d] > /dev/null 2>&1"
      ],
      "metadata": {
        "colab": {
          "base_uri": "https://localhost:8080/"
        },
        "id": "4D5FRAqigy0x",
        "outputId": "55dfca43-06e1-49bc-fbda-1c53cff9cc37"
      },
      "execution_count": 2,
      "outputs": [
        {
          "output_type": "stream",
          "name": "stdout",
          "text": [
            "Requirement already satisfied: setuptools in /usr/local/lib/python3.10/dist-packages (68.2.2)\n"
          ]
        }
      ]
    },
    {
      "cell_type": "code",
      "source": [
        "import gym\n",
        "from stable_baselines3 import PPO\n",
        "from stable_baselines3.common.vec_env import DummyVecEnv\n",
        "from stable_baselines3.common.evaluation import evaluate_policy\n",
        "from gym.wrappers.record_video import RecordVideo"
      ],
      "metadata": {
        "colab": {
          "base_uri": "https://localhost:8080/"
        },
        "id": "9x4WiPf9lYXt",
        "outputId": "1cab81a4-7bc4-4969-a1df-3668aeafc39f"
      },
      "execution_count": 4,
      "outputs": [
        {
          "output_type": "stream",
          "name": "stderr",
          "text": [
            "/usr/local/lib/python3.10/dist-packages/tensorflow/python/framework/dtypes.py:35: DeprecationWarning: ml_dtypes.float8_e4m3b11 is deprecated. Use ml_dtypes.float8_e4m3b11fnuz\n",
            "  from tensorflow.tsl.python.lib.core import pywrap_ml_dtypes\n"
          ]
        }
      ]
    },
    {
      "cell_type": "code",
      "source": [
        "environment_name = \"CartPole-v0\""
      ],
      "metadata": {
        "id": "A7eUgT9JbV2P"
      },
      "execution_count": 1,
      "outputs": []
    },
    {
      "cell_type": "code",
      "source": [
        "env = gym.make(environment_name)"
      ],
      "metadata": {
        "colab": {
          "base_uri": "https://localhost:8080/"
        },
        "id": "0cf87DSDb1Lm",
        "outputId": "ee10fbb9-ed81-4b4c-9774-13056afa2ad3"
      },
      "execution_count": 5,
      "outputs": [
        {
          "output_type": "stream",
          "name": "stderr",
          "text": [
            "/usr/local/lib/python3.10/dist-packages/gym/envs/registration.py:593: UserWarning: \u001b[33mWARN: The environment CartPole-v0 is out of date. You should consider upgrading to version `v1`.\u001b[0m\n",
            "  logger.warn(\n",
            "/usr/local/lib/python3.10/dist-packages/gym/core.py:317: DeprecationWarning: \u001b[33mWARN: Initializing wrapper in old step API which returns one bool instead of two. It is recommended to set `new_step_api=True` to use new step API. This will be the default behaviour in future.\u001b[0m\n",
            "  deprecation(\n",
            "/usr/local/lib/python3.10/dist-packages/gym/wrappers/step_api_compatibility.py:39: DeprecationWarning: \u001b[33mWARN: Initializing environment in old step API which returns one bool instead of two. It is recommended to set `new_step_api=True` to use new step API. This will be the default behaviour in future.\u001b[0m\n",
            "  deprecation(\n"
          ]
        }
      ]
    },
    {
      "cell_type": "markdown",
      "source": [
        "# **Understanding The Environment**"
      ],
      "metadata": {
        "id": "wicY4bTPcPQk"
      }
    },
    {
      "cell_type": "code",
      "source": [
        "env.action_space"
      ],
      "metadata": {
        "id": "Tbsf8ECodBvq"
      },
      "execution_count": null,
      "outputs": []
    },
    {
      "cell_type": "code",
      "source": [
        "# 0-push cart to left, 1-push cart to the right\n",
        "env.action_space.sample()"
      ],
      "metadata": {
        "colab": {
          "base_uri": "https://localhost:8080/"
        },
        "id": "CIjEUU9XcRbs",
        "outputId": "2ecd7411-959f-4ac1-8329-1b56415ae569"
      },
      "execution_count": 6,
      "outputs": [
        {
          "output_type": "execute_result",
          "data": {
            "text/plain": [
              "1"
            ]
          },
          "metadata": {},
          "execution_count": 6
        }
      ]
    },
    {
      "cell_type": "code",
      "source": [
        "env.reset()"
      ],
      "metadata": {
        "colab": {
          "base_uri": "https://localhost:8080/"
        },
        "id": "02ozQIdSdLaa",
        "outputId": "27da2190-2b85-420d-c062-b4cfe8ec4dfa"
      },
      "execution_count": 7,
      "outputs": [
        {
          "output_type": "execute_result",
          "data": {
            "text/plain": [
              "array([5.3490783e-07, 5.3185611e-03, 3.5888184e-02, 2.5545273e-02],\n",
              "      dtype=float32)"
            ]
          },
          "metadata": {},
          "execution_count": 7
        }
      ]
    },
    {
      "cell_type": "markdown",
      "source": [],
      "metadata": {
        "id": "w6MYI_YP08FP"
      }
    },
    {
      "cell_type": "code",
      "source": [
        "# [cart position, cart velocity, pole angle, pole angular velocity]\n",
        "env.observation_space.sample()"
      ],
      "metadata": {
        "colab": {
          "base_uri": "https://localhost:8080/"
        },
        "id": "53xlU7L-cbyM",
        "outputId": "5787d7bf-f489-4e8d-f6f3-cfc8c558c4b1"
      },
      "execution_count": 8,
      "outputs": [
        {
          "output_type": "execute_result",
          "data": {
            "text/plain": [
              "array([8.4927511e-01, 3.1260355e+38, 1.7961399e-01, 1.8119396e+38],\n",
              "      dtype=float32)"
            ]
          },
          "metadata": {},
          "execution_count": 8
        }
      ]
    },
    {
      "cell_type": "code",
      "source": [
        "#The following code is for rendering on Colab. Do not need this for Jupyter notebook\n",
        "\n",
        "import gym\n",
        "from gym import logger as gymlogger\n",
        "from gym.wrappers.record_video import RecordVideo\n",
        "gymlogger.set_level(40) #error only\n",
        "import tensorflow as tf\n",
        "import numpy as np\n",
        "import random\n",
        "import matplotlib\n",
        "import matplotlib.pyplot as plt\n",
        "%matplotlib inline\n",
        "import math\n",
        "import glob\n",
        "import io\n",
        "import base64\n",
        "from IPython.display import HTML\n",
        "\n",
        "from IPython import display as ipythondisplay\n",
        "\n",
        "# Google Colab needs to render the environment to a virtual display\n",
        "# we will record this as a video and play it after the training has finished\n",
        "env = gym.make('CartPole-v1', render_mode=\"rgb_array\")\n",
        "env = RecordVideo(env, './video',  episode_trigger = lambda episode_number: True)\n",
        "env.reset()\n",
        "\n",
        "\"\"\"\n",
        "Utility functions to enable video recording of gym environment and displaying it\n",
        "To enable video, just do \"env = wrap_env(env)\"\"\n",
        "\"\"\"\n",
        "\n",
        "def show_video(mp4_filename):\n",
        "  mp4list = glob.glob('video/*.mp4')\n",
        "  if len(mp4list) > 0:\n",
        "    mp4 = mp4list[-1]\n",
        "    if mp4_filename:\n",
        "      print(mp4)\n",
        "      mp4 = mp4_filename\n",
        "\n",
        "    video = io.open(mp4, 'r+b').read()\n",
        "    encoded = base64.b64encode(video)\n",
        "    ipythondisplay.display(HTML(data='''<video alt=\"test\" autoplay\n",
        "                controls style=\"height: 400px;\">\n",
        "                <source src=\"data:video/mp4;base64,{0}\" type=\"video/mp4\" />\n",
        "             </video>'''.format(encoded.decode('ascii'))))\n",
        "  else:\n",
        "    print(\"Could not find video\")"
      ],
      "metadata": {
        "id": "tfvQFl5_mFP7"
      },
      "execution_count": 9,
      "outputs": []
    },
    {
      "cell_type": "code",
      "source": [
        "#This code simply takes random actions, just for your understanding of the our RL algorithms work\n",
        "env = gym.make('CartPole-v1', render_mode=\"rgb_array\")\n",
        "env = RecordVideo(env, './video',  episode_trigger = lambda episode_number: True)\n",
        "env.reset()\n",
        "\n",
        "episodes = 10\n",
        "for episode in range(1, episodes+1):\n",
        "    state = env.reset()\n",
        "    done = False\n",
        "    score = 0\n",
        "\n",
        "    while not done:\n",
        "        env.render()\n",
        "        action = env.action_space.sample()\n",
        "        n_state, reward, done, info = env.step(action)\n",
        "        score+=reward\n",
        "    print('Episode:{} Score:{}'.format(episode, score))\n",
        "env.close()"
      ],
      "metadata": {
        "colab": {
          "base_uri": "https://localhost:8080/"
        },
        "id": "7kGX8q92cjhd",
        "outputId": "81581f42-8aeb-41d4-b2ca-2f2f4e90fb1c"
      },
      "execution_count": 10,
      "outputs": [
        {
          "output_type": "stream",
          "name": "stdout",
          "text": [
            "Episode:1 Score:38.0\n",
            "Episode:2 Score:14.0\n",
            "Episode:3 Score:76.0\n",
            "Episode:4 Score:31.0\n",
            "Episode:5 Score:26.0\n",
            "Episode:6 Score:52.0\n",
            "Episode:7 Score:19.0\n",
            "Episode:8 Score:13.0\n",
            "Episode:9 Score:28.0\n",
            "Episode:10 Score:13.0\n"
          ]
        }
      ]
    },
    {
      "cell_type": "code",
      "source": [
        "show_video('video/rl-video-episode-9.mp4')  #only shows the last run"
      ],
      "metadata": {
        "colab": {
          "base_uri": "https://localhost:8080/",
          "height": 493
        },
        "id": "zdiGflNPl0Lc",
        "outputId": "92a1b570-51e0-4537-965b-61cf8c064ca3"
      },
      "execution_count": 11,
      "outputs": [
        {
          "output_type": "stream",
          "name": "stdout",
          "text": [
            "video/rl-video-episode-4.mp4\n"
          ]
        },
        {
          "output_type": "stream",
          "name": "stderr",
          "text": [
            "/usr/local/lib/python3.10/dist-packages/ipykernel/ipkernel.py:283: DeprecationWarning: `should_run_async` will not call `transform_cell` automatically in the future. Please pass the result to `transformed_cell` argument and any exception that happen during thetransform in `preprocessing_exc_tuple` in IPython 7.17 and above.\n",
            "  and should_run_async(code)\n"
          ]
        },
        {
          "output_type": "display_data",
          "data": {
            "text/plain": [
              "<IPython.core.display.HTML object>"
            ],
            "text/html": [
              "<video alt=\"test\" autoplay \n",
              "                controls style=\"height: 400px;\">\n",
              "                <source src=\"data:video/mp4;base64,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\" type=\"video/mp4\" />\n",
              "             </video>"
            ]
          },
          "metadata": {}
        }
      ]
    },
    {
      "cell_type": "markdown",
      "source": [
        "# **Train an RL Model**"
      ],
      "metadata": {
        "id": "9kPThyjkMv9t"
      }
    },
    {
      "cell_type": "code",
      "source": [
        "#If this code block gives error, try the Vectorized environment\n",
        "env = gym.make(environment_name)\n",
        "env = DummyVecEnv([lambda: env])\n",
        "model = PPO('MlpPolicy', env, verbose = 1)\n",
        "model.learn(total_timesteps=20000)"
      ],
      "metadata": {
        "colab": {
          "base_uri": "https://localhost:8080/"
        },
        "id": "GWAx54a9utlR",
        "outputId": "51710b61-6f4f-4a83-baef-dcea8c74cfd4"
      },
      "execution_count": 47,
      "outputs": [
        {
          "output_type": "stream",
          "name": "stderr",
          "text": [
            "/usr/local/lib/python3.10/dist-packages/gymnasium/envs/registration.py:513: DeprecationWarning: \u001b[33mWARN: The environment CartPole-v0 is out of date. You should consider upgrading to version `v1`.\u001b[0m\n",
            "  logger.deprecation(\n"
          ]
        },
        {
          "output_type": "stream",
          "name": "stdout",
          "text": [
            "Using cuda device\n",
            "-----------------------------\n",
            "| time/              |      |\n",
            "|    fps             | 527  |\n",
            "|    iterations      | 1    |\n",
            "|    time_elapsed    | 3    |\n",
            "|    total_timesteps | 2048 |\n",
            "-----------------------------\n",
            "-----------------------------------------\n",
            "| time/                   |             |\n",
            "|    fps                  | 473         |\n",
            "|    iterations           | 2           |\n",
            "|    time_elapsed         | 8           |\n",
            "|    total_timesteps      | 4096        |\n",
            "| train/                  |             |\n",
            "|    approx_kl            | 0.008098362 |\n",
            "|    clip_fraction        | 0.108       |\n",
            "|    clip_range           | 0.2         |\n",
            "|    entropy_loss         | -0.686      |\n",
            "|    explained_variance   | 0.00297     |\n",
            "|    learning_rate        | 0.0003      |\n",
            "|    loss                 | 8.25        |\n",
            "|    n_updates            | 10          |\n",
            "|    policy_gradient_loss | -0.0167     |\n",
            "|    value_loss           | 53.7        |\n",
            "-----------------------------------------\n",
            "------------------------------------------\n",
            "| time/                   |              |\n",
            "|    fps                  | 471          |\n",
            "|    iterations           | 3            |\n",
            "|    time_elapsed         | 13           |\n",
            "|    total_timesteps      | 6144         |\n",
            "| train/                  |              |\n",
            "|    approx_kl            | 0.0092846155 |\n",
            "|    clip_fraction        | 0.0521       |\n",
            "|    clip_range           | 0.2          |\n",
            "|    entropy_loss         | -0.665       |\n",
            "|    explained_variance   | 0.0776       |\n",
            "|    learning_rate        | 0.0003       |\n",
            "|    loss                 | 13.1         |\n",
            "|    n_updates            | 20           |\n",
            "|    policy_gradient_loss | -0.0151      |\n",
            "|    value_loss           | 38.1         |\n",
            "------------------------------------------\n",
            "-----------------------------------------\n",
            "| time/                   |             |\n",
            "|    fps                  | 451         |\n",
            "|    iterations           | 4           |\n",
            "|    time_elapsed         | 18          |\n",
            "|    total_timesteps      | 8192        |\n",
            "| train/                  |             |\n",
            "|    approx_kl            | 0.008397283 |\n",
            "|    clip_fraction        | 0.103       |\n",
            "|    clip_range           | 0.2         |\n",
            "|    entropy_loss         | -0.635      |\n",
            "|    explained_variance   | 0.233       |\n",
            "|    learning_rate        | 0.0003      |\n",
            "|    loss                 | 23.8        |\n",
            "|    n_updates            | 30          |\n",
            "|    policy_gradient_loss | -0.0234     |\n",
            "|    value_loss           | 51.9        |\n",
            "-----------------------------------------\n",
            "-----------------------------------------\n",
            "| time/                   |             |\n",
            "|    fps                  | 454         |\n",
            "|    iterations           | 5           |\n",
            "|    time_elapsed         | 22          |\n",
            "|    total_timesteps      | 10240       |\n",
            "| train/                  |             |\n",
            "|    approx_kl            | 0.009868935 |\n",
            "|    clip_fraction        | 0.0799      |\n",
            "|    clip_range           | 0.2         |\n",
            "|    entropy_loss         | -0.605      |\n",
            "|    explained_variance   | 0.331       |\n",
            "|    learning_rate        | 0.0003      |\n",
            "|    loss                 | 25.5        |\n",
            "|    n_updates            | 40          |\n",
            "|    policy_gradient_loss | -0.0171     |\n",
            "|    value_loss           | 62.4        |\n",
            "-----------------------------------------\n",
            "-----------------------------------------\n",
            "| time/                   |             |\n",
            "|    fps                  | 456         |\n",
            "|    iterations           | 6           |\n",
            "|    time_elapsed         | 26          |\n",
            "|    total_timesteps      | 12288       |\n",
            "| train/                  |             |\n",
            "|    approx_kl            | 0.007334358 |\n",
            "|    clip_fraction        | 0.0797      |\n",
            "|    clip_range           | 0.2         |\n",
            "|    entropy_loss         | -0.603      |\n",
            "|    explained_variance   | 0.558       |\n",
            "|    learning_rate        | 0.0003      |\n",
            "|    loss                 | 31.5        |\n",
            "|    n_updates            | 50          |\n",
            "|    policy_gradient_loss | -0.0131     |\n",
            "|    value_loss           | 49.3        |\n",
            "-----------------------------------------\n",
            "-----------------------------------------\n",
            "| time/                   |             |\n",
            "|    fps                  | 447         |\n",
            "|    iterations           | 7           |\n",
            "|    time_elapsed         | 32          |\n",
            "|    total_timesteps      | 14336       |\n",
            "| train/                  |             |\n",
            "|    approx_kl            | 0.007193571 |\n",
            "|    clip_fraction        | 0.0551      |\n",
            "|    clip_range           | 0.2         |\n",
            "|    entropy_loss         | -0.591      |\n",
            "|    explained_variance   | 0.58        |\n",
            "|    learning_rate        | 0.0003      |\n",
            "|    loss                 | 27          |\n",
            "|    n_updates            | 60          |\n",
            "|    policy_gradient_loss | -0.00881    |\n",
            "|    value_loss           | 50.3        |\n",
            "-----------------------------------------\n",
            "-----------------------------------------\n",
            "| time/                   |             |\n",
            "|    fps                  | 450         |\n",
            "|    iterations           | 8           |\n",
            "|    time_elapsed         | 36          |\n",
            "|    total_timesteps      | 16384       |\n",
            "| train/                  |             |\n",
            "|    approx_kl            | 0.007098051 |\n",
            "|    clip_fraction        | 0.0784      |\n",
            "|    clip_range           | 0.2         |\n",
            "|    entropy_loss         | -0.6        |\n",
            "|    explained_variance   | 0.682       |\n",
            "|    learning_rate        | 0.0003      |\n",
            "|    loss                 | 16.6        |\n",
            "|    n_updates            | 70          |\n",
            "|    policy_gradient_loss | -0.00946    |\n",
            "|    value_loss           | 50.1        |\n",
            "-----------------------------------------\n",
            "-----------------------------------------\n",
            "| time/                   |             |\n",
            "|    fps                  | 451         |\n",
            "|    iterations           | 9           |\n",
            "|    time_elapsed         | 40          |\n",
            "|    total_timesteps      | 18432       |\n",
            "| train/                  |             |\n",
            "|    approx_kl            | 0.007123752 |\n",
            "|    clip_fraction        | 0.0628      |\n",
            "|    clip_range           | 0.2         |\n",
            "|    entropy_loss         | -0.573      |\n",
            "|    explained_variance   | 0.67        |\n",
            "|    learning_rate        | 0.0003      |\n",
            "|    loss                 | 15.8        |\n",
            "|    n_updates            | 80          |\n",
            "|    policy_gradient_loss | -0.0132     |\n",
            "|    value_loss           | 50.6        |\n",
            "-----------------------------------------\n",
            "----------------------------------------\n",
            "| time/                   |            |\n",
            "|    fps                  | 448        |\n",
            "|    iterations           | 10         |\n",
            "|    time_elapsed         | 45         |\n",
            "|    total_timesteps      | 20480      |\n",
            "| train/                  |            |\n",
            "|    approx_kl            | 0.00966551 |\n",
            "|    clip_fraction        | 0.107      |\n",
            "|    clip_range           | 0.2        |\n",
            "|    entropy_loss         | -0.573     |\n",
            "|    explained_variance   | 0.798      |\n",
            "|    learning_rate        | 0.0003     |\n",
            "|    loss                 | 5.93       |\n",
            "|    n_updates            | 90         |\n",
            "|    policy_gradient_loss | -0.0122    |\n",
            "|    value_loss           | 27.4       |\n",
            "----------------------------------------\n"
          ]
        },
        {
          "output_type": "execute_result",
          "data": {
            "text/plain": [
              "<stable_baselines3.ppo.ppo.PPO at 0x78674690ba60>"
            ]
          },
          "metadata": {},
          "execution_count": 47
        }
      ]
    },
    {
      "cell_type": "code",
      "source": [
        "import gymnasium as gym\n",
        "\n",
        "from stable_baselines3 import PPO\n",
        "from stable_baselines3.common.env_util import make_vec_env\n",
        "\n",
        "# Parallel environments\n",
        "vec_env = make_vec_env(\"CartPole-v1\", n_envs=4)\n",
        "\n",
        "model = PPO(\"MlpPolicy\", vec_env, verbose=1)\n",
        "model.learn(total_timesteps=25000)\n"
      ],
      "metadata": {
        "colab": {
          "base_uri": "https://localhost:8080/"
        },
        "id": "bX98lXKzIeU3",
        "outputId": "ad420c61-d5e7-436a-9fee-8a463a581036"
      },
      "execution_count": 14,
      "outputs": [
        {
          "output_type": "stream",
          "name": "stdout",
          "text": [
            "Using cuda device\n",
            "---------------------------------\n",
            "| rollout/           |          |\n",
            "|    ep_len_mean     | 22.2     |\n",
            "|    ep_rew_mean     | 22.2     |\n",
            "| time/              |          |\n",
            "|    fps             | 2296     |\n",
            "|    iterations      | 1        |\n",
            "|    time_elapsed    | 3        |\n",
            "|    total_timesteps | 8192     |\n",
            "---------------------------------\n",
            "-----------------------------------------\n",
            "| rollout/                |             |\n",
            "|    ep_len_mean          | 32.7        |\n",
            "|    ep_rew_mean          | 32.7        |\n",
            "| time/                   |             |\n",
            "|    fps                  | 1285        |\n",
            "|    iterations           | 2           |\n",
            "|    time_elapsed         | 12          |\n",
            "|    total_timesteps      | 16384       |\n",
            "| train/                  |             |\n",
            "|    approx_kl            | 0.013982605 |\n",
            "|    clip_fraction        | 0.198       |\n",
            "|    clip_range           | 0.2         |\n",
            "|    entropy_loss         | -0.682      |\n",
            "|    explained_variance   | -0.000615   |\n",
            "|    learning_rate        | 0.0003      |\n",
            "|    loss                 | 3.48        |\n",
            "|    n_updates            | 10          |\n",
            "|    policy_gradient_loss | -0.0234     |\n",
            "|    value_loss           | 20.3        |\n",
            "-----------------------------------------\n",
            "-----------------------------------------\n",
            "| rollout/                |             |\n",
            "|    ep_len_mean          | 76.1        |\n",
            "|    ep_rew_mean          | 76.1        |\n",
            "| time/                   |             |\n",
            "|    fps                  | 1062        |\n",
            "|    iterations           | 3           |\n",
            "|    time_elapsed         | 23          |\n",
            "|    total_timesteps      | 24576       |\n",
            "| train/                  |             |\n",
            "|    approx_kl            | 0.015879352 |\n",
            "|    clip_fraction        | 0.194       |\n",
            "|    clip_range           | 0.2         |\n",
            "|    entropy_loss         | -0.644      |\n",
            "|    explained_variance   | 0.396       |\n",
            "|    learning_rate        | 0.0003      |\n",
            "|    loss                 | 13.6        |\n",
            "|    n_updates            | 20          |\n",
            "|    policy_gradient_loss | -0.0345     |\n",
            "|    value_loss           | 28          |\n",
            "-----------------------------------------\n",
            "-----------------------------------------\n",
            "| rollout/                |             |\n",
            "|    ep_len_mean          | 109         |\n",
            "|    ep_rew_mean          | 109         |\n",
            "| time/                   |             |\n",
            "|    fps                  | 1018        |\n",
            "|    iterations           | 4           |\n",
            "|    time_elapsed         | 32          |\n",
            "|    total_timesteps      | 32768       |\n",
            "| train/                  |             |\n",
            "|    approx_kl            | 0.012623574 |\n",
            "|    clip_fraction        | 0.15        |\n",
            "|    clip_range           | 0.2         |\n",
            "|    entropy_loss         | -0.601      |\n",
            "|    explained_variance   | 0.377       |\n",
            "|    learning_rate        | 0.0003      |\n",
            "|    loss                 | 19.5        |\n",
            "|    n_updates            | 30          |\n",
            "|    policy_gradient_loss | -0.0262     |\n",
            "|    value_loss           | 44.2        |\n",
            "-----------------------------------------\n"
          ]
        },
        {
          "output_type": "execute_result",
          "data": {
            "text/plain": [
              "<stable_baselines3.ppo.ppo.PPO at 0x7867475cb100>"
            ]
          },
          "metadata": {},
          "execution_count": 14
        }
      ]
    },
    {
      "cell_type": "markdown",
      "source": [
        "# Saving and Reloading Model"
      ],
      "metadata": {
        "id": "DAeiA0zRUUgw"
      }
    },
    {
      "cell_type": "code",
      "source": [
        "Model_path = '/content/ppo_cartpole1'\n",
        "model.save(Model_path)\n",
        "\n",
        "del model # remove to demonstrate saving and loading\n",
        "\n",
        "model = PPO.load(Model_path, env=vec_env)\n",
        ""
      ],
      "metadata": {
        "id": "9resXwZATYlq"
      },
      "execution_count": 58,
      "outputs": []
    },
    {
      "cell_type": "markdown",
      "source": [
        "# Evaluate Model"
      ],
      "metadata": {
        "id": "Z77mlK81k7Pt"
      }
    },
    {
      "cell_type": "code",
      "source": [
        "from stable_baselines3.common.evaluation import evaluate_policy"
      ],
      "metadata": {
        "id": "nRU7erYFk4fE"
      },
      "execution_count": 23,
      "outputs": []
    },
    {
      "cell_type": "code",
      "source": [
        "evaluate_policy(model, vec_env, n_eval_episodes=10, render=True)"
      ],
      "metadata": {
        "colab": {
          "base_uri": "https://localhost:8080/"
        },
        "id": "BeO2pdlPk-qc",
        "outputId": "78b4d543-e244-4718-9bce-6bbbd7405429"
      },
      "execution_count": 52,
      "outputs": [
        {
          "output_type": "execute_result",
          "data": {
            "text/plain": [
              "(500.0, 0.0)"
            ]
          },
          "metadata": {},
          "execution_count": 52
        }
      ]
    },
    {
      "cell_type": "code",
      "source": [
        "vec_env.close()"
      ],
      "metadata": {
        "id": "xmlFFD4tlvAH"
      },
      "execution_count": 132,
      "outputs": []
    },
    {
      "cell_type": "code",
      "source": [],
      "metadata": {
        "id": "9AdzANDlUgpH"
      },
      "execution_count": null,
      "outputs": []
    },
    {
      "cell_type": "code",
      "source": [],
      "metadata": {
        "id": "7FXyWxIUIebv"
      },
      "execution_count": null,
      "outputs": []
    },
    {
      "cell_type": "code",
      "source": [],
      "metadata": {
        "id": "8ixLxUkNIefe"
      },
      "execution_count": null,
      "outputs": []
    },
    {
      "cell_type": "code",
      "source": [],
      "metadata": {
        "id": "UbdCjY-3GBD7"
      },
      "execution_count": null,
      "outputs": []
    },
    {
      "cell_type": "code",
      "source": [
        "import gym"
      ],
      "metadata": {
        "id": "CUx_ublVGeq2"
      },
      "execution_count": 59,
      "outputs": []
    },
    {
      "cell_type": "code",
      "source": [
        "import torch\n",
        "import time\n",
        "import matplotlib.pyplot as plt"
      ],
      "metadata": {
        "id": "WYWORZnHGf62"
      },
      "execution_count": 60,
      "outputs": []
    },
    {
      "cell_type": "code",
      "source": [],
      "metadata": {
        "id": "twfelExWXW4w"
      },
      "execution_count": null,
      "outputs": []
    },
    {
      "cell_type": "code",
      "source": [
        "from gym.envs.registration import register\n",
        "register(\n",
        "    id='FrozenLakeNotSlippery-v0',\n",
        "    entry_point='gym.envs.toy_text:FrozenLakeEnv',\n",
        "    kwargs={'map_name' : '4x4', 'is_slippery': False},\n",
        ")\n",
        "\n",
        "env = gym.make('FrozenLakeNotSlippery-v0')\n",
        "\n",
        "# Instantiate the Environment.\n",
        "# env = gym.make('FrozenLake-v0')\n",
        "\n",
        "# To check all environments present in OpenAI\n",
        "# print(envs.registry.all())\n",
        "\n",
        "env = RecordVideo(env, './video_new',  episode_trigger = lambda episode_number: True)\n",
        "env.reset()\n",
        "show_video('video_new/rl-video-episode-0.mp4')  #only shows the last run"
      ],
      "metadata": {
        "colab": {
          "base_uri": "https://localhost:8080/",
          "height": 439
        },
        "id": "eg17HqnhWxrp",
        "outputId": "69b4e19f-b34a-437f-de07-952206d8654b"
      },
      "execution_count": 61,
      "outputs": [
        {
          "output_type": "stream",
          "name": "stdout",
          "text": [
            "video/rl-video-episode-4.mp4\n"
          ]
        },
        {
          "output_type": "display_data",
          "data": {
            "text/plain": [
              "<IPython.core.display.HTML object>"
            ],
            "text/html": [
              "<video alt=\"test\" autoplay \n",
              "                controls style=\"height: 400px;\">\n",
              "                <source src=\"data:video/mp4;base64,AAAAIGZ0eXBpc29tAAACAGlzb21pc28yYXZjMW1wNDEAAAAIZnJlZQAAYn9tZGF0AAACrQYF//+p3EXpvebZSLeWLNgg2SPu73gyNjQgLSBjb3JlIDE2MyByMzA2MCA1ZGI2YWE2IC0gSC4yNjQvTVBFRy00IEFWQyBjb2RlYyAtIENvcHlsZWZ0IDIwMDMtMjAyMSAtIGh0dHA6Ly93d3cudmlkZW9sYW4ub3JnL3gyNjQuaHRtbCAtIG9wdGlvbnM6IGNhYmFjPTEgcmVmPTMgZGVibG9jaz0xOjA6MCBhbmFseXNlPTB4MzoweDExMyBtZT1oZXggc3VibWU9NyBwc3k9MSBwc3lfcmQ9MS4wMDowLjAwIG1peGVkX3JlZj0xIG1lX3JhbmdlPTE2IGNocm9tYV9tZT0xIHRyZWxsaXM9MSA4eDhkY3Q9MSBjcW09MCBkZWFkem9uZT0yMSwxMSBmYXN0X3Bza2lwPTEgY2hyb21hX3FwX29mZnNldD0tMiB0aHJlYWRzPTMgbG9va2FoZWFkX3RocmVhZHM9MSBzbGljZWRfdGhyZWFkcz0wIG5yPTAgZGVjaW1hdGU9MSBpbnRlcmxhY2VkPTAgYmx1cmF5X2NvbXBhdD0wIGNvbnN0cmFpbmVkX2ludHJhPTAgYmZyYW1lcz0zIGJfcHlyYW1pZD0yIGJfYWRhcHQ9MSBiX2JpYXM9MCBkaXJlY3Q9MSB3ZWlnaHRiPTEgb3Blbl9nb3A9MCB3ZWlnaHRwPTIga2V5aW50PTI1MCBrZXlpbnRfbWluPTQgc2NlbmVjdXQ9NDAgaW50cmFfcmVmcmVzaD0wIHJjX2xvb2thaGVhZD00MCByYz1jcmYgbWJ0cmVlPTEgY3JmPTIzLjAgcWNvbXA9MC42MCBxcG1pbj0wIHFwbWF4PTY5IHFwc3RlcD00IGlwX3JhdGlvPTEuNDAgYXE9MToxLjAwAIAAAFMnZYiEAG+NSE/eowoKNT6OtubSLjVvb3GlkVchOnao4VLYO/3ogms6aAwhmsWjC7OH8/qWY2UV2Wx6/aEOgu7XyvClzJGxjvbdXTTsv1opmqEktfm3PqwO0uCLOloAmyjtzupxT4hd3YtsximYBakr26IqrltbUjML9wo03R21vIc2S5xDLexGFXP1xdp/W5wolixO0lPWX8M+YLqVFao2w025aUeB2uHu3uJCzVHwb/N45gP6AqLoJf0BMFgesTYX3vdonDVguERbeU4hGia7JwTP2B1zAbGYjRwhMY+N71oqIre3DXTv8h2Tmu0Ni6spHyAnaYrjwdQZODUMTz8uj8o2nnNZ8lHBQMGo8C9ridLolgAEWm0DbztU4O/+uu4v7qfXeLnlyupjMUxdA5r9P2AbaSXiiu+VUqmZps1xpVnGgY0xpszmvO5ACTy18cEO4k+ks9nIKG3hIo2NzzkoHdApLkGUQfFUmlGRnHZMWqMUoVNbkaCS2ZToVOcY/dZfCp78v/UnMpx9AUE2+FiMXCSiGisSFLJvKtvKoJiS/NZuAUi2VIIgxaosDudQr4GfvNdLgRFXyOgEHVhNofbRukTyboLAUnRpvkFNaJSmHIWcqKU4ffKKTcRP9JDnxx6YQAOFoOzn1IhDopSeEEjrESFFt4/TP+IlPE4mLh9GKvCBuip+VG1gx2IXVU0fn7Nh8IVG3V6jnZciGSfDLUBYcZA8yUZr//phMyn7DrJmiJeLz6Ji9m8rDeZAztTDn9a/IwwQVHyfIbbHPjOTiItowcKiEsY5Tnj/FAQhhxQJtcBBSyfT2gWlwADS+JAP8lG2mUWNQo+V3M6BilpXqy1h8xhFGwcsSySjPKV7HW6e/k24wamzHgxIF6Vnyw0f80hc4aQhYqoAMg3wGQYXD5LUvFpYy69dxNcoM1FtV8CoenfvkRFbvbWhdyDf6TJ4V3F+7iVPXCoMgBKSfyAYX59whL2WmhPPNrwCmFNhSVduxninzPdoiBTNMtkBt2xBeVbBx4APBS0bMfJVByDVB43Y+Yh31mmAg/BeUN2O6WmUlaj/p/obhjE4oa1Czv8AgQb5zvHRgO5QclFsdKwlFZMfPPQkSA4EsITBJ0uN1YcCmahXSRhMrPzm/+b7XDe0Pm+O8yqfjcg2tlM86YlaA5/XReCfmY1pLyjdyGtr3gocrmhxQRFrrG6x4oAOCZI/GTIs+vwfu5u9aZJWmt5j4ErINa4LUEfR2RBljrc0uAUjFcRQyuwT3yTn5uPtnZYUY1NF2cRSHHjd5CTzldGULUf5P7rQi78OtCJvBHchMdDMf2PqYM9xITkt4zAx/3P+iVMnrIe0Ttn4CXR5/gh1Ubp88jcJSK84PM8hhVzjZCrTW2HBQUAz018SELBRekhM2sXfhzN1yXC7itGM7bRT+Dy2ec0sgmi86Wl8b5pJ5+X6lfutym0Nl/hiyuDiAJXH6mp7xzCrdJg0eeubjE6uwycfhwLLySqxwJmiuj0q5bwNVO7Hvh/4bDxoneG1o68uLLuCasuq8Eq8vG08DyHYqbUWiyOhtLGr8SvurGsrkx9ttkotIoCzppHAoontQlFFRDXaOp2ETN9ok/3RdCm9QnA3eq9jxYicoITG0XQUkrRn+pC75/ZBog6MXAXmcUFZqPqvREx9teE+q8vK+mft5wbH/nbN0VamUD/m7T1CfHzQqwFkHZYYunp3bG08QLhZnpFj5hKVdb1VtejwCIjHwpUyxyLlD00zIathZhQ9n0Yh7FMD0vmlDgRdpJ68+jm+FAwuO6QQgTwzWf0cwKkKF4nJj7/yD2oVe4my2BCjymErqOU8hEBF0+pVuY5BKqhG7tfZMEg+PWXMGwusTNXQJqquIoKUmZ6DOMbsAyqNoPH58INyHDguZy3oRfniqXPoblZTBf//Xv7oxRcYFOFeO3LoZiSzc+3Z49M2aucihc4lAISASam/bq4c1sbVDAUlfRJg+mSBUSGh/ZIuSFj/3/IzqaGDRvIXPlzIu1NlWmghtgohOjqnHFHL0lncIROlgAGubZgCD5wCKpPAFVHjGGFIIJy0fFbxapEVnKvCCyeFeC+TxAdDH47I2ujFBNBfcthRZA5I6aW2dCjs/U+XSHchwkOKHCjt28buw/HO/JVf6SqtPM5K9ZVEUpqEz/AF85n7R2WSIpiLfCG6Y8MXiUEcuHssbOZ17/bq3FDDMlGsEKgtsaAHU/liitGeCUl6oKWfK1Mc6ZQZmfBhj4UZEF+XcMkc2uHt4eLvExMrbHLW/GQ0KpBi/P61+oP+fFvtaT3uH6haVEIflUJC5YqWK17OXRLlBtiMzYc4LYLKrabsi/9sIG6SQ4L2a7cvYb7/NlgwEdfQibYfGJP47IqqN0MB9UfdFuGZjT79lvTsRAcm+NgS5HecTmlV+8oCgnRyAJYkik+u/68h7+NK29AGFb5y/FDSlfBJZdd7IgbCC6rkJfQDuwhc96AXfW9vP0RdPtbBRiFLAt8iwGVcTFdITNvGOMaLy3V0muM3IAP/DNfaN0KiYIOUROg9yM1/3K4awc/PmRFOztqy/y5vVS71iKclItvaaJlo6smGg8pNTNMNms1JsO9OaoTO/gMdBwSF1Gsn/bH3zFvZT6WIUlGLF817Ri4oOfkRZXiX+LUmNd6XRjEaAOBE98i/36GapPRcWtCu/zgRbHZztY6qJ6ftU8P0quDeY4DFV2IN2Dh8cR3BKHvsLEj+zxpw3oVMW+wvjD2HT/gd8Y/MYdLJcz/YyeYaxDlYF8fTA9gcLp2/u0RoU5JFP26BIR32JIJOXI0h1hzi84Ots879t8qYnN425K7g0aTyS7bMVsns3uVcKXTxFqStaXNJgzq8pL+GsiVCUYxEJcVfhOXl9+s1oK/ecqN2o+lyJQ2DU+bi5dU8yAMMy2J406N7UV17+SPh4OjKPnvFKbaPnGMD+WRFrSjJgrek/qMIun9zaHZ49qA0s87XC8nBfb0ZdxYY1xAlM/LS1uwnZIQImpEG6xKYAkY9EhpRjpWJws2py5jezftkMfliOHSB59QcZNKGKZdmBNJ115vivX+mXCiPfk5NytjNgngE5SlY8f2/1a2vmaMhgH98InHZfw922Y5VMYUuV/cnrHBN7Zw9gEQhxuD7rJlM1/pscyUPXB81zHQRtmyE06QxxXVQ4bw2AuidnYfFBrKIghGU6YjOuEoIa5Pbi5HTzq2tGVEZavQ9E0ffnZBEPUprvEWD5NHKXTGN9FvECoJFJDWmdjOdWlLl6rIM2McjJPRqY2gN5egN9G0QcVPlGQRCCp/HPrIbjWAudMDsG6ORKuyUhp8L9+mSw6eBpJndx3Su2pPtITcH4mv6SZnZlHWjkQVUf0TLCjxI858i/fSuCP2bZVvxm2pFjId16SV2VmCUqckTrr9/Mwn35UCX/BmrSjeR1PaLgyWQfr7+unlzSU40WyBTrr3sfvAyzUINy8H9Llm8wqHoyR4UlR2ix5USzrvynxvHchQFQDnrYHnZds0b1+88f2vahmsIZwo04Eia/tTAghLPnDdtDGguUgIHUArXHDfi2lP5iIP3x2UBsvBdzOlbFoLvRrE9L26b3SX+xqf+1JFkJUgJulwiaejB+/nQq7xBVyWAVPGnvfHb7Dvf+mJpsiBoqroDPPUIPByRF6Um/yze9AKHrS8JY8kS1EqXCcl+gIocTdT3uxBSwHhIZvdlJ3774eR+w1YZik+lEXnhRUgFHtF8FslILNOmaUqECvJ3uXw7liFaaq5I+++nZ4Ah6VGoJN0OfYRrPlrxjU5T2443aICIlT7OvexGT3kmb1NP0wx9w/rqOjXKrlBEJEC6VSb3XOadjtV9pAnkVttOlXmqZXKFrCMS7iy6uh7dm92xosdbUij5XJPhdEswOLVr+e1Jz5d3eItMVIWNIx/TKJ1S4N36KDi3QU+wm/hfBLFdz6VMSs5x/JJz9Gn9pGRgEvgEceA1HDgHFXDRqAzapJbBno/ODsHsfKBWGkYIcPYGBrrFJuXjzQQ7wqvWViGr2OXSg6hXDZlWHNaR4PZ1h8DTuFQP/SjgJira6erkYprqllwXmKYgrZCjOgzaDn1i+NDr6+ofLze7q+YOyhwPfNRkbO2gvrNt8U1+pP2d0VzcFIBICXgSmLYXrfLsOUn4ri3gx5LMDXjnK/pW/hkDm7IHJFjHNn52AvAxqMO0xMrRbDD9O4eC5dtDbQ+t77KbCZ/V/Ir+0zvWHHIrklbr72gYczjeyks1eqCrCm/OzopqB9fs+qyJt65L6BRf+h3wxD9edk+vgpyuK/LFE0DrPTOV+tszwb1+RaulnaC8hVPhzpuyvYG9de/DVivV26FLlVXuLeN8mukl53BSCQHmb/Z8wv+Ob1lT5np1X+yZzH0sXwjgkRnF2Ph6y4GIs1wfEgfZZFDQxZQnSpkr7MN8QnuJbDoo/g+FkAgvqcvnqsaTo5oHwE9RypoLgFb3lxffDMMmQ6j5DqjZVIn/Ny8pv2hZuIbtKjtIJuoIR7mmWuVtxOHGz2CPwUUaloDUwmhMleP3H/Oh7I3f0pJc6c56jM8kWESRJhBsSXOniaUHvFnv28Y2NWJ70c1qUrxNMszLg0EBYkkTqKEs9SUdFBd8XEWwlj9aW1EwqQ94+XG7fI18IjFyE8cL0ZGqGlS7BmqH5b4xtRbPoXyxiRLf8BBtEv4mXX0Yy/XoeygmvE7uK73Non3P+RXJk03Pa3rdAzjeLhsLEGD/kBNATDsdjhtZLn3KkbmtckkSg3I5iEP7LIoZvLwpyo8g90H22xpeVY+mmmkBLTPcU+zR0HM27xTOTKHoH9t+djHNn5Pedwh8WqvHUeSJMuUWMjFOdDNUcAhEr2MjpuoXXnILPVQzzdVpdvLab0PDgPB9+QxMlDP4cUTpb3Qux5SlMVR8I/hpH/24AQ5pi0yFDsPeNyW7TtRX1kYfbiZQ78GVPS9dxevQFCwteU3dzpehPaz/RJuwsTJcNTIzlvDKO/pVBresYm2WyX/jaMEPRKdUtzYyeAVprCzLP7NBiNsOoMIT9TFV9HKPVLcP4DVEJeksizZuGPK4r8oj5JV0+U3yNwwNBQzozBp+zewU4G69hpvPWiZn0Fi6CX2wUXrS1HY1ufV3HEDmvA5w1EDNtan5zEPBfGYIgvhuSuYUfIe5qhKiSSAQ632iSP19uzILG3nesunPEuMdmYHUSuPQ6FBy686kdqNXgt9dVp7LAewqbIEFcyD7ptlFtXdslPItFgH6Du+pkDLXA4B/0fqKVxC169o6udeupoBcY6aJgnlggqoswZ9ExKcmiZpRHur6L5KAcBSGpQqfdWsNFh/s04rUzWbeohcr7moeXUwC0xrpIK4WcVghKWctFwM0icxmtpe5JIRtDRRfZXs4dfyaNwCN9AOR93L3Awl2dr1UjMS4mz/H9F9uKFiexIQlJV9Ah2C7LpmEP7HkqQo75GRSUkhjXgKxCV7YEffgcMh8mNwJpyoR+tSuqVxxnqCrrThJTCsroIcuy7X376zLdS9pThFKbe6mxkG+1p6zLhcuVHZnZmPe6yV4AO48cRu5SkFhOTuf//EYzmnxlg0feE+9rZ8k6awnHWlx/2xpDmGC66zFWNuulDr24c6ezar9YTX7vmtB4TK4Ov1ZgL3ACkWHnLuBzqC6dBxFccJJi4mUbtsowt4czpF5K4u95HMrNX1a7zYYd/2WI9W0r2RmBx9ulRnys2DaJ+EieInfmieJwnqwsQ0idvAvp71z4PeYnbdSZSHwWe4rGEdWPB8l06DSZIVp7247IwQFxlxv4pR80smlAXj+Mrfk829epUaIv0qv+bWeECG3VFNULoGdQK+I59kwbDbk0gnocAPSi5XDtNQ+wkTLZG12atk/jxHF60xTc1COExKFjmc+c3BkzgUZvkcbe+eaUIRBCUox6B/5uzvXamGOFK6m5jijVlJt28YugR8AWDeq/mdAoa8KPK3QAfwbVhi7VO4PEoaemFHAoAcXnk2icqppsfx+d1IWAgsYka0S2Sa/YFltXfS6eq5ks7ySFTUOWzJngJwGUSHbCCTMKdcMHVRXdneimQljYQ7RrE20pJODPfjQyCo3RYgvJTHROpgTw9hlrxrrT7RwfM+bCPdyfpLWbOYlfkZuTiBxUclVRLgYJobqTZHg7tjVTpW8O6BRMub2bgrVWEdlTBpUqUSz5UC5+mBE598FdNhewbwuN/fAT5qjkhY1mv3stdtOFXik4AufOdT613nkkiOQ36MgU0iDyarO76RqJBSnuZ7n94Bd/HxAmZ0xpweE1WJ4DmaDNKkYRhBs+0lQyX2uYef2wEf66q1+wrciMkmc18L5ptzpzziXowJ/21FovBNvpXqc2uIjmtorEoFrOehiI3p+raWyUVkQ+Q4YvaZ/AnZXQvUYt6rzZbR5ckNtOrjquu2fCLMIWj/LqdDFNvOK9gyLMOBOkVNMjdD9vU/UTAL+5UKNgkm6hiE/XbotnplpCGM6gHYm2H1QMwQ7PIGhA1yCqfvtU1rOVLAhMhs1773pwRlDMnNpu/mEShCPp56u9j3FDP9Q/Yw9Val+g3n5+NXY183ygu3Cp0fTcNrha9Iz8AK9YGs20MUHbQL8oPDjZ2x+h8r4v7TlTRArGHPZf5mfHjsQM79o3aX0W1+5V22n8UDHHZcO1Q4tsDdGcVnUscy+DNv0GycxrwJtyBJzK7xP6PbtMF2N8XqwcEXaUq/WBGX3qsbRMsu096G299Y+OI8IpUAWzRPkhXbrUYlcmhdlY73LlktrhILFdZRGXzwHreos8Ky7g7Yd6lGxORSEaFzHUWUIiJDnZnYI6UvwAm/BF2RnQnD3FntUIXfcnU710tSiXHmOkD7wcHpqfr4TXXSCYdMgniknm1L5slS+Kko0cc6QXXbGBgpCkobxh0B77B6IZ/B7zuTBViopnYAEPv/73JIDFN4mwd2sF9xgJQ/WQiURrh+OKTCGFGR6wtzrmbHu/j5zULGc+vZJe7r3LzTMW6nRjA/tqMAWtKFOcGs0Y+c8xq6Pb8VCdeD34wBStXHgv9RrP6hKry0ykKFAiJDjYqU2eleehQerC20eFXehu1zN4RHj0WJTrx5MlIgjQ7FVUdnqFSnep1AEhWM6T1Ere2sEyXHgHAtz/4VJ70IS7nVxyu+//sWIt+TtRGmD920LslY5zKxU81zaXfbqyf4HaGz5qm+8XFjh83SvE9ktcyAnQN4KMt3kilFfEd7VYIYlvCVCNJhnL5mew/C195xp0/PNVhjatJPWn5IA5UFtDkZpMIJpIoCa6ZM+/IzxuaIVRg8ymSBnfMiyUCgMn3DR4SHoIMs0gi4qU5iDGHzfwhzA6OkHvN58emFQeNbKXT2IaXeGXQdJbMzC62M+3DemWyCwRk0zerQ2yr9Bpzv9prg7Cr8wR3dXb3QeD6fyBl+4NsZiBylppk/Rp9NJl5OjvmpxNLS78ew43ukgkL0QyEJh43OPlMLp0SOAAKDJdgpGf+p2tXYR8fa8ajk+eCWSUKwKoM2qm4h228/1F9El2dQa0oZxu6EZAr8K5htJ+NJ2WbcwvgZ4F4jdHi4BSVt/jM4V6T572Bck0XObCkl+68HMwG9OCYLp1EJEX+yOUhoO7/al3cYkP8Y+3emQcZ6WESNguSX2wATPrWrnB5XSuUla9xw9efEgd0KOPMi5Rak8dGeolqsLNaaQmGZDWRvjxlMPPzBdITGHKnYsietrIhIm1HKe7LuNtBq5dlX41Gjd3hgOuzMB+HZ3iUD1/4FCSBqy7WNf47d/gknJYgL0zFvByQ6lLGnampNvd/3HCl8YuTQS/OQVEeMKGaZ09EGLOD3tJKhEtnJxVbWKJq4rGlWxL7yeAbv1dFbbKoSQHj6fCu2aHR256iqStnRSFOrVVlIIxNaNIuX1Dbjvo7MSLUAFgm8lyGZHhb6uCGnevOYpHs1+zb/DpVOj/4/yT3dedm3/NBSNScKYrWsRW2CUfBV5xz2EK7vwS/nLlrj8TwFKyK7jvK7GdwRZgv+Cv0fIWP8xhODdxFzy2a0gMAPrbfIpfVYtZGU4HduYvYI7sna/GV6TV9cEGTyaDFK4X0kbiNigrAk3bkScp1iAzO8gjoAnP0CYLQuQWTPfi1M46jZ3tvr979vlR8Oev49vqJIrGgGvYyDkeWFvdkU5OfHlHLEc39+UefnrzxfD9ecAqG1cDAqtl2UoVT3AR6TvAiMviP3ZYqVHyUj2nzArm4w6RezDWPWRkthaDuxUpqAKF4p1kK8ZaEDf9UDBPwZmlfnskVjLAnfHFw5owN5kE650kBraeB7MGclOtRmKtXzzMg4qXjHvMMKy3IYgjhdH3sKEo3Rncx4S7NZmpbm2EBfZmlMyOGtBSO8us5GJVvUayZ/1rIKyCkwUT/kTFlFHkCtqv6WBQi0RM4olyeCcgr06PsFwNd8Uui7cugWT6mp7sRLbl/yzTQ9jrJmcDxhYK5aQDhXb2in0Rv4Dyegwgj3G4QZajq1HuoobtR3hYKbf53johbhByr2ZoUED9n/hTJwiUPEOizZvzv6+knrP2Mh9jg1e53XgFaNDc2yCUyI6gyO8v+wzVjuGRijTmkz00Tfy09fMM23ausj8KhHMw+Qtcm6L2OCHqqaQkATOwrGYfAsh7VKHdjJ6JkrA0+jNIzS7YrArU55Diu7KmEU8u6nkA/i8z3XoORuu7rOPIypKtZlJyzicy9J5dH78W/2MN1ij9WgYowJ4VFWZZip0UtOarU7uK518oou1x8xsrI1201cW+mznGACebdtILDt9pY4PifCL9VGvibvZQy+rmTnyKsOW5VknsmvfY5XJS+9Dmg1EU+3e5Azm3vl1o1bQVg5K6an3vcOEFyBkXmir4nQI4/a2KW9w+ndSDc8MDuA/8BiFiJn5Izg7dchNUMoxq0B+ghbBfPBNwnYoq95c2PRHcVD+xyhEPHKCFQDzokuYBpqwG1gAsl1CHijYAXP3XFew8Nf16SuZd/PUnm8B9ISqIIwfNrajwlhqSIY7wDZ9ZLwW1leHhusKjlVFouPnlGwvRcSZhj5HeIMjlgQg0JghEqd56Pf1uzs7/J1vmKz4NuO8Xg5LLDq0rdCmleOiW9GTAf+H7TFsZwKsnaVA6WKwRtL5VOKDhAAhyt2j3MGEl/JbYzObLIHjMTEf2BicyAHyErREnWUv6GoTgM9duuJcEyTUMOAOX+Btgu7Ym/Dh6RYcmop0B/HpvY5qjLMVYOgwVkPU/gQRW8a7jtECX+CXU5Z1AjMQ8fTn03/7jy0NS0ezS7UHdOcoryEclK2t9WD9UX5pV8it/tQC9KKpLpapVtTAdv4/wESoTsWFsaBepaFTdEuyevPh27nwDcVAqqHoc67+3rWIW5dt5UjYUEG1wiQbepXqUFuxJr1lV0ytiIzocPKOz4rVCro1nQCb/MVvao8NT0e01BAFmsJhYIp4y1pLEYuDiR2Jp0DuIQodW4dCWELd78lONFVv+k271LqqLHpSjHGDHqeUDq5sgKekjH/9qxDsaE+puOy9CQ4GHttNsR5veVzDhm/VVfp5BnzRWZ5SI/CbNEdEDEp0KUbM1ZfRyOYGKUozBtmKYji2RPzBxW7mTKIIpnqITf8SBa/PG2aomqxwfUmbj3vsYXR3YjLuDfdEcAHEvMYV9hmrnCYgUCZw16onueNW0AC3ccjyjUDLy1ayJECkBQ9a8WjUAhQIFdhb/FfxZNx//36VdGMoH6e3n1ORJOBCQFcU1Tk/5lc8/mBkDif+TAosRAF/32He7w2V0Dx29cDaZo0l46NCVMwIPsZOSEHuf0jRon9xS9cB3ufiFCN61ZKymunq5AedIkQ8LYxkyxzN0dd+qJORP62AFEmfz7MoSAkE4Ihx2+R+MlQOVrz98qPOk1SEVLpp4tLq8eZAc0dzo2qjO4ft2EV2j7A+etzreR8lKRkj76uEA8m6lsim9nmjlgXBz9r+k1PxdOv+1QaeNv1WAhZXsw6jXeiRXefTOLrPn3vitBEjXQobbhKp51PXQVYJgXbYElnFBF8MgzsU0/NCLKMt7dIJUSav69JXMu/nqf1Z9gm0bt3HgtcVR4TUvz3J1M9wPtawW1l2N0pHVv49pE3X8uR0d68AzQ4aSgIMNlgQg0JgtGr96f3UGY2Kj04ufhYgIahURd2uoRP80TwgN59ngaXtKv/sOOLmBzAqyeoz2RXu2XpzIPNQcqgDtL8+8F8o1FrCBjl6fEudpDUz4r3YBqCfoJVCLV6hkD0OehXj2HIRLsE/1c+p0B/hhCORpQpS5owZ4ofZVWeSM8oASB6ceE0pGwU9Eh9SQFIXId1x95Ch9hBH3EKvjsZd0g5F7TXre+0JArV/3a53KZscauetbdf3ZUWyDA1RJ+HFJYY+aFy2GCbwkFJji0R6qg1CYzgbbVYyfW7gkBQeL9SqJWJAcI1lDsU+k1gr3OF7O2W4aSpp76K8srxRINoQvArZaRInZTljsK9m6nn8QaBg/NGO7zaBHY6zd3TOXlwntZJB4FL1g0lsq+UR1wxDsPidDJG4bpdz/x4K7gykIsztTgsFAvTU1SwKNZTiZviToJ8hCk+ebLdPP4cj1XIeIxHMWCwzyWGELP6HBpVMx3phr03uExmPe2l8HzZmVJr2KsUUpZrdXmjPNrkKzOivSPtXgkSRsPhS7xo3Drf9Gnx6fAVGqsz1TUjFL3vjAFkn4isF7TUP9KFfBWLoUWZNn01pwBtSWe+Hc5XHy//XpVRxzLHJIKBjZ2dmH9FZnCp1vyePDBH1lHPPs2fwX2+/4Nb/PY+EIHN8ZqkDRo6P2QGDsXpvRpdjWlvbhDklHZWUqNwqq896WqB8lh0qxx99Ac9EAkEIwuwADUbINm7LDrV3IztoZWnY9OH4tvBIPEm5DeLRkIFjP1YHMp3C1+k12loW/R+MPGk03QPYfh3/b49S85FRvf4HMak1pJydi5oorYSMKNDlrfkA2tHAEh44mVaBhC2iLmRKtK164rIodScoxyKDocatDj/tQB9Yy0WzSR6ltLNY2uYZ+qnvZDsOHrMDUgAp8dzyFcn0IVF2+GF6jSMhilJvqZakwo2sZ/YOX3lg0Oj17nqitzY/X2tmJgD5H1CaUHX/TjT2rPtQO3m0HabvQcMuKe3myUSRnMe/NSeerb3pAWVzvnJIu3aPkrvH1boX0oBuYaiJZQ4U9Gby2yn3coJIK/ifzQ50bL4oncjYnU5Bp7Jmf6/V2XQLYQ+38YVsWmHbCKUZwRNJakYPBjCTeT8TZCEpIj1mLOS9rycUVGhQ9Kbyk640gAxBiekhnsgxl8M33hcgPE3RrSGS/Mm3tSt2l+IDtHkSS9T28X/kVKuC3ovLGw0J75WuuZ/qv+wZImiq420B42wU0/uU5qFp21jD3PP1ust2aVDpUOIYvXW7YgIphzgLObJLhZ5E/rwH5eFfAHjRbRgnGyGaSDorBvXI3vknEHJ4/T1Zm5B5x6hsazHBviIl9chJJKU9XNq/YrxwvDo6ENmT8JebHMcDZ3I6P/uUsGbozTlWmNwnJX86/CFdSxdF4Wjdal53juZSiNowwYxzaADQSwtOfPgs/oVGjnRaJFHhK9N0ZpGQ/d1LIXJXijrU9dIHu3iPJS2yP5FrvGCsfzSfsAmpovAXTBkLgEZLrUZvE4lVliL0QJShjRZuObWMBLwp/zL8GvaveT2PO4w7LbCoKWlN73+pIHCOGwF77spxTLvqPWC1cEtPCf//wPJyk5S8yFLVG938fNK/0I68Qf/jxqcPwml5q+xIQMjA916K7ViUZmU6TeBTyqU9iuto1XTc7Nqs8BXns06sybxNpwjN95/fWIz0oP9UM2/jKQfHn29Snx1xbdxcUe+SfJjv4V1NcBDSttR6/8Sy0MGZIYRZkn88P7Kc9ImBhn6l53jrKm7JRg0Tr0XDkfBRVUeYVFurdryvqoe2EzxAMq06/VtHHTyLtOFOsuIdQ/JYI2f9H4bros34Z352SwLUzBvxbUWSszARjF2a8XNhJ5IWguHNeC6LDlkBi7HDgi5mVQJAWstmPaYTg2Gaewdd/xuBert0quDwtYuDDBmJh665caovN4yEIbtXYgh93jtRIXwxQRCx9NA82cU7RBC7gBS4AAZPLaP5Lf36LWyJ2a+fVuKjRCb8Yh9U7g7vjv2NMSsvdmyBMvJFZfYxG8hIaSKvNS83J9Q7bvTewnb966wnNhwlj2j4rl6Yw4S56Yghf6cZk4f+qCTYmKzp8JTsJoRgyvZ25cWzPDltcnpa/Nbl1Xu10OHIbZ2rZYMPo0buM1BzsDo0q7QtpWKpW+elW+RYvsjx4Kq0/+ANTctnh9kNuTP2pSGgY/JkT3eGLMLby332f0P8tHgOa9FW6WNRAM2aryE2/meGjWZ+DELE+oVwJDsz2ME8ENdDFJn9I+jTVI0HfktRtbcGIvcn8hOK3V0LPlpAZqlSLEns/G+mrXJqYnXwXfzTB3hbxhJ8rLBbgYLEjmQn83xBL40ImrXh8FkgiBvw7pBUNfiicP3w9A6OoSGAWovt3IMCI9jocwl7WBtX3a7PP2O/fnup8ioIglAkNGLErkXsEngT/XPGTu+VLhGzSqL9AKbgzFnFnaKk3mdWlwbs1p2waHmKc35s7eJqVd5Hj/RB83yjYI8Pl1BvwEgJEa8xoIDvkgb/Pj5lT6OdpOl7l3dZz4m/jIcCy5sKNsJh02N0vnYbAmlMXZ/oLWiCH2M61Seubg2oUASgUPvBPzymE9gTbUlysvpS/Cgl+N9TjDD1Wd3uIGeI6hSchqEXWe3E1gRSuCeukUs48Buo+M1Vmcerjf5BwOm6tQuJCbx1vWT9IX2Js5VV233+ew3px6OKZ2MNxpbE744ajIw9RnhJSghMXkaJ1HcIt6jb4LWvq8BXdWDFY2VIeR37VMX2FaABxRtePeOtpXvuBg/i6fJ5V89bpj0WqCUMhqJl0lc4LwSCT5iQvUiKA+KPj0fB8KuNTipUmpCNg1SFeD8BNnfqme7K3j6WkUBq4dvvnzlb1Nd3UYXfPf7zqqqsqCThbxfQ1Mmkv3kKLyDFXXKnb5Yb2YO/h1QyVkK0t6IJYYdJ+S7aKKa5tzK7XHuw16BvvNU0Y5acyWBjflAxqHizEBCgmwQyZtGP6esrlER6TuRdCp5F9AajHKkWiqC2clxoiNJYyDitTDzlo1qZCMxdFHs9lR62BMkuIHv2aRh7BE5GdFDAYCI7qe+kH/MjYv8chD2MqqYPMZhKgn1mTw/1MF7mqcHjC8aIjcqw6hvVrLaVkBjIClsGDmFciEfkJR5wZBA2PbiZ34CpAkIT3AEcM6y9Ur14DEaHTm52iP+J7BWZIort1gRAi3T1GPZU4pb28eoVH4c9TNVdU3jrfW6TbZ/HzC0NgabMQlTr/9TZ1scJyRts/fU8OqExTyxNVdwEDJpPMdIE4qihAWZ8gLg4e3iWta2Nt8g2iQfSVtulKJHBaJc5CCKoTjqUb913mo8dVRhYXraSiYHYgIv4NKoQ+xtTEzreyzP22QW8KIRlLCKoGximoqkwfuPsymw3U1uh9LkaGvc+w9acsILM+wUrOuCUNZ34A07exm6xwBGIPG17VQ73/F2gX8uKr6aT+acfnLWI+M6HovLo6cKM9clrq9uZXCNbpFL9XWV5Gjw+vnVWj9SjhZGtulTxcr9Mx53X0uX3Wlb/jIH0VgnOht2HqmYe9R5N0XL/q6XqHCSzC5xfh6fCDchAHMfTRwjNBX2r3U38Y7g5ADEwJWkK9xT+PzqEP/0VlPMmjN/QzzgiYCqTcpNrSS4x2a2enHbK6jaGtk/JhNua1R5H+hRQeZsXyauGrFcm6vJWQdMgvCKMIE9pNATHFU9jh29qc/0If20Wtx5PmsWiWidl10i+19TBAJN22rfIyOhFRNf5y5xZuhxZWijV71r+RMycphOnpBVAcrpYD0IzxBf4bNpwbnNOxtvuye1ByCq8gun6lJUGhuLAhzZW2zFPG/yJQaMz/VP5Ziv0aBx0rwVSqi27A1olQ/2mCnkzcUDMsdf+MoSHAjOjfKyEBp7F9ayllQbzeZ3lxjnbo/sKGGqyvj/En9FtRVckdyrtoP5Pjlh5PtT7kfN4sVmTP9TzLsktfu25C5F0MjuW5qtGOfd74Czs5LkOP/rLMHMuDnIEzQ5nWAWLtWg80HNAijCFzItRk+bMurSJZVDS3JpHjkTHmwNUVbSzmRjb0pOa0gZV/p9spXVXspNj3PJB0Ac77WQN/mw4BaBKRZBD9ggg9TLtngk0YJHaqsFNEA8Ht4DHl5gEhj2C4Al5IwaMzzrCURAfDhWsI6zp2KodggvnAFiy2R464vGioLa2vyk8AJ1/LtGQ7DNPhQRBxlWUbrcRqA4oqS/NsY70XzcVaDyFtPpNFOqksDhiDCbKrfw4EoJRMtuh/4ZaCFFnIx7Cl2kk15JRISOFMOUkgN1KiXMD1PqBPQL/uIy3K7cTqOoKBQEdQEawH1YoPDIZTcHEbOQlGQ+Qq0DGbUdEYDAaTgMl2EPD+djNHPo3Gg94Uwz9f5Xs2itZ49biBIuPjWKF0nKX3qKIUhdcbX5qdRT8lzUB/wCNtkyWaroBoih96gwcNev/81j53RmfXd40l5Zjb+BYeMpXhIDoI+0dEAEfZsnCqV9n2J50zrK7noo0eQVUZtGdcESJSH4WD+/HKCrAtyogEH+XUKH65XS1G2QDTKe3UBvt7DSj9pgKHzgmUwd5EY78kLFNSWg5BglfsbGCYwwR16Z1rihSEAkLaefbLE1Cdman7Kbs+5rwU6n05q1TxhCfpA/uV/4recGQ8iugovILJz8cLOSabsqJWTKGjhgLZKlRt31XEBLu0f42ZVp5uDQXIGZrfzj8EOOpIuBmVajMxySKcafjlIWQJ7wy3hAUG74ofVM5aHo1/wGzWYPwqDL5CsNteWl5NwRQSl6vJBLv0dX1jkyQiXGR1XCHfnqy49R7eXPHZc3xcWSUcN+Hsk9ZOiVBjpeBjXvOgHWPTc5ofhc1OVZ7/al02YEmPCgXpl6iH1jRAiuBVbfWN3+bOU/x3xU5boYuwldEDItZyRU/OKFctUUVQPNnFZrwM6QWVo/5nLUzB1OjC0oL4wS+K18UbAN/Taj1Ol5kc9s584kNjrIofek0InDEBnIVZKdhmlvnwv3HUmryO8DIr+PWPKX4cSS4MguE73TrCLNK/icH3nMzVAIB/+6Yw1am5MsIjt9ppdim0LY5cWH4Fi72Hp7hPYCe0glM7gLtgGB+2iniiNLaFjLgqoG1M8E8O5USO8tSZ1Z4/1fXHuhiGvpGnP6eyR+52JIQC/7BhcGD1D730dihfty88eq9bsC5EmjFW+9UmIAk4krbntRSu7amjUNag9GBLO4VKwslcMDaW06hjE0e4lfqCthBCebiJxq59jrYHkVGpCP+adF7gCT3KcLRnkFSFKYOftNIzlFgu4sSzLVMTnw7jOjlg1SryVrJXQ1IrpAAnD873LKDnB8PN7u5pkZs1RqXtp+XNRagEm2dUXYRWAxdg3v1KVAixoZipTxvnz73EfOga/LmBW+P0UYC8nkPQnp5on/gGp6sH27CKpqqDVJaqab0SBopb5sPNWKW9W7SvEUy7nglQ6CAVpucyhE+3Sbaa2rWD9r5dR7tHLFcJ7+i+iP3cq6hZjNHA2euOKf8aH8PmKKOyANSNLCHaoeHySCMDklgSLc0PfMATGagZK0hxs08KtZhQpbA7P7SqUJuMyf8dnhJKNizuvJJxrfKsvyFuNWC82kZI3ow6u8ztZFZiA7dwVS5QrqC72WHTHg60/uRGK3wIqFJd/FkSSgH9P1kgNvY51aRajtAyZX4uD2bcmMS1giykS3xHJJS5vHHsIR1yGFxg8WYO7J/ZGJ+tOmeaIfc82WC2oau0bLx/HRt40JWrywQ+Q5y/tUPex8Dg85COs/nGnR4ZC6yb+ZBbgXFBP7KzISHz0/uPXyLdxF0G3xm4WKEt9Q3FWNbB5W4mSz3s8zI92+3H+f+uP8osfiltuN6sgYmV/y1XB3WYyO1AklTUrYwS4nYVWWs4CvhtGl6T8Ffaa9Sc1WyzAtkpPV6ZWCfa+IixmWfjMK4X2sdzo/ObREpI3bwspjzp/c2h4fQV+WhJ2YljVCl/DkUZT5vjzvs77ioVIIm5FftOwf8i9N6JhRbqM8Pqk+tGHiACs3oZdLlwwqijsjJQpNAFrERfb029YGvl15Ekx3O6YH86Um4BDaw03WCcdZMImsgHUdLt+xNygKtNc27Pqq8B+sBTiXgxn48fPGt+Og0tPRDV7Htum4k85TIltlPY+HHPJkk8MPjRoXHfKlhBjPFNExH4gtJcM8W+iGYZTu1HnUeH58L8k8W0ZamzcT7zBnkOtVxKiBjZdCvz9kCfHktTc91YWmoKT15bbi6ErPffZplCpyIZD+UdkcXiMKYyyXz0daMwt7g6iFwc72yr/NZYvEeI35InVXE19D9BVM0d3Fds/YRXwjbHODl3g/TIP5Ku3mNnEBabYV/XopQ5/c2h4rf5BNjXdfk/5L/ybjFRTmyzc0MeWQUqAbokcBDRrusbMb92qv16GYUX0ZE+n9XlTuIiigONxRQpAMf5af1izdePqXbfGPCXOCPAysC9gFazsDj/bWpWc5ptfRFhuSeTL0jRMtAizFhP5FCO003/MLUliTX1lfcn3ZyPxwieFWTCnYG5tgasjWjqJyvSU5r1DOmRJGHolDazCLN9M84xlQ9aS4fm2ue6BJHqzbQx0+w9pONF8chRHQSn217mgCJXXnZvfZJPjJqscnD9ALfrf4eGzuwSx53f+NcVPHpTKMK3W+I9Pxou2EgVHZ2wc2DIfKKwC9Sn3F+Wj5uHsEtNt4KficNhm1TP53LPeJwB0FtdwXf95kV9duGA0yBct8qGyfX5yWIicXcdrqs7Rfhyzj8p2rKD4tFiLw3dB6GRZlj8DEYrvMhF6QmOgKvWAAQCAm+SSeuuxzZ7DNJd1IaYSt/E+J3nOOm9G12er6da+yWUK1ZhcVWzU002kEk6cRAVygNQa8Y0lPhAyxsItH9rm7Z72Rg2c17zZ6B5D6gbYyXouKSHN7yN70AawcRkFmrYV3ZGkK2rvZyPccWSasFDeby0faXPu9ivx1w0bV+e5bKM9Zo25bxDPckIJVslJ+64l1+a4DvXuWJ0+nAH6QQFoHgunkZoCot7LLSsbuLfOr4YxXd9HmHIo784BQphVccZQepj65I77UiDg5f+jRfpH0ON8N/vQ5oNRFPt2NPtICyUZeitesd0B2yNETq7qwu6Br3ocIB6zqlsip3gUWyi9dXN409VjWnX+7M08bfGzhNBidaz476IJPCsUxMs+XB4q0ESC+ikl3CVNVA6ugqfqDo2wFrTdwJmpRQDu3L+KQcbfXiKT2yc59sb9gikVNObRLuwlOb7K8XNqPCQXBe5Opnt4fH4W1leKhutLLsyi0XHwRdupKU0078PzZzw/fB7QmCEZk+YXhQZjYqNzgR/KOOQtian/a9vzM45/QAN59ngXxzpX/sIijyYxAqyeT5sqjY9ag1RU/+7DoByp5req/CehqtxsUhBtRrtIXh8dxTmh7VdzsbRUeNGJLWjkBoW+4wdLzBvPneabTOSOJNpPyWx6nF8I/aTy5fU4JtsFv62JfXRQ/q4EA9TyYa89cVtHW5LQtU17KQfrv3EM0+Ih4QuT0IRQC6B1A0HKrOU3Y0pgQFJNTkGWkJ+FZcErXKqE4U9gGidtv7+WNrTLDNx5sx3dSgZCy2s8uibyqpo1ELSUIfqN56g0ElKhzP6TbkB6Sx8o5Dzg4ssq4v7mQp+3wXWlWXIXL60Z7NzKU87LZ/FvKxF7FmAmZbKE3oUpy3VjptypTzIFnZCjRQ0uJhlA8dz35rjrg5ebd6C5VpHJHykG5W3qLMHEBlAaZoy2vMlBoTGV48bnLt00s7QcOXIeicOlXMixqpkepOjXh0JXeBBd2KcuclKpVFuyDP/ZfOye81UwBcj+Ni7tmslAiXE5h+VTX1CDofBvU+RkisJhZ8gOSPQx6cWuE1CDg9oXSNT3AFsD0/QnzVrTESZ0YnisD54mRht9kQQNAmyGO7pTGj9U8cz3gcs+7+/cQU+9ZWVybn/yNLnvEqgIysH23iOAInaM225q5zp3ucG9M3Vgl3vjGgHZrhGuUHd4qsi7G4yDdhjPkUMwGeQ8px+0XfMhsaQKIFt4Soo7jgnxeakA9rNv9jokMrLFub8sKm/ngsL/ytE8md8fW+Q9ze2ErkmecsI4U7vh7VRgfAXLVDV704pa7JJxad5kwA1fsAC3aYau/qRJFTRzzTJLBFMyNnLu8XIMqi26gUPd5Wr6P1adYjY8k2yen4P8Yq686wXlXGbaKMwAUTROkFmfmrBGbzXW7a8lNcha2xIIhvT+9G0PIwbOeRcGAmJyfS+iY0rCf7J2e5uOkpwUbDFr2bqFqbo+ffkCSkIAXT7dhHiQLwxh6MnvWH/TbHhazZVhzYxxIavebOWj2tMi88hfzRmkW+WqEhO3ySBJo+R3Guey7XaY+IFwoNEjFa3/HMfNVlF7CdsMWGCeFYZ/qJMV8G1VVGcvb9oxktuKM8zo6cKvxNzxgjyLxHXXXB7kNxTCJn8LYpkS7hOYKIS08KjjaoJah6j8yBhpHN7ZySWA9WXyhdPTwchBtRNInetN4LulfrisecdOCQLu2KNtXQQ4sIM2N19eibugHwRMjQRuxZ9Ibr5ox3a7z14qwgy9158qJOTRdUyqkTN1SfbmElSa6x3MkFi+/T2X6KFHaHmco0mVVrOOlbVI8x22oWhuI47Gl080Lqr9/AyZVVy+toQAP4Elalz17M0A0spKRrB5CBgrHHDaZmTqt9lYGjfPdRMu/LZo/YMyscxYKTmHxBUrjlfTS8d0qxNzsZQjdH9xtU0Ob5SVlT3Z3I6Wi3rxyFz1QernCo7Z9i8t9OB8CEWOvyUAv1gndVcX2oVMOZT3dR6fkmUFCXoizJP7Kg7KcZc7AH7aLVLn3G2n8KjCcqkTksufBRWoOqST9xNfWr1hffg48QDKqdO0IRN6xKoarelVvNZysI/PIoOaU8kMn8X8syGSCa+7KcnA+xLcsJDaZr4BzZFCQrlAWBT5BLjATxII7f9Ql7r+jxGlC2QOsuhm58zPCbXwxP0Ntg3b5Sa8l3POQhTv9M2qpPA9NnWpvrcVnlU5ALUNdh+PTrOehH1C9om7UBiAV2FynGj4nfkOXPv5W6MwOJefVtFqFlX4xD6pF1DMmZsqbJYAo4htscfsFsnwF5L+pg89Lf/ogxauj0PpAo+bNI9mgEPtUOb1MnsqKiQQzgYLQzh9XcjfEgud+VKOL0hAWYJmdcGkZSpdAes1Gx34qrnxLPF390uydRYfpHJRyYCRBQwHtrFkRcpFr0G3282EPX/phtBrI3zOEYz5rWEqXonhGTrNOQfOLc1yuAnGC1c32Mj9xCMMKkRFzOxyqbmo7FQCbl+zs2RYUrow+U1+uso6Jdl+HJ36+Z5Q1ziGJoEsFckYHmFN/2dEeHZYOksTBe9TqjYHNprnVLcinEZjK8eXdnXmFIRNOXts9uNRIDvlu4LXlA6h0gYgQuzPHPxmyK0oGQggz2xhGw/G5OcvSFm786sEjL4LjmUbOj8TYhlpy1j4R58NG7CueDT76WluqAyhGxPXYvVK3yh/cCaPNjOYvbSfmD36Gazk+wCnePnqj1lPYz/62Ju4Ii5WVzyQD5hlU9l9yK++zUvIdgxS5v3zsVo1d1+zFsGEqCDA5iJtnNHww5BhX61P44Fusl1G8yLizUFoqZVPqzq0mOonVWbf1Et27T1uM3LFqkEZCx/KAaHo+sNYw0n0lW6Ir82bTHsUPMIGI/r5EtWDTa3M1xEXIiFnXdMxYx7k8wT4kNCrX2RJHawRNzLPmEe9A6owyGO9qzACfHWjBK4apA0fAvUejaURsrAB51csKeK1mkiyPXGeWgP13aZeYyMLSqEGTbzIW4KliwU1VgnHeSWL3CL9QUCFL1oNGexPk4VlcVHDVloylV6d5CMeIqZ3z7coC9RRAuXax+xU5euxJ5RDNX07j79w15HAOF3eqSqhir7As630PlNW+92tTNw8Gjf16O/mNcMTbn4HRlFhYGjIRq9y91fUH1Qd4N1kD7t0hvKSZVuPkab3Xt6D1/BVnT46Z8EOjj1yBvyjMoxHhiCgdcSMhY/lAND0e0gBdBFNb/MXJNUSomNPx+E590EtLjX2cSmtuI5V8IFUuCuPZR5DT/+WgpkKBoUqBfL42G15RvSxeHezADalj0wCTXSrzPjwJq0qD2IwcD9YeGZY8i7uRMyX80gxn1NBr1qIykK9+T7k+hGHDYjjSol2v3Mw1FbvSE/+3AFdNOnLilYKkZ+ozlIbjPM1T8sTbn3Swq2BNnIHw2RYCMqZjYjZQtF+fv0NNWZtNjUI3Z/XbWjFbitvMomCx4De6r8Nat5G1jsckXwQ+TG85T5L9DiigK5otww04/XBVhm7PCrH0c7SczXd5ZxEa/PqsmIAZq3sPfFMmYmax30++V7GG+qOyIqGy6kuiK7XNwbUKAJRE/3gn2Xbnhjvgo1kkhmjzQg5RhgAoyNv4oV1lSSQxXDWyvaa7rtn9KmvjIn6w2/CKLGdi01CRpCU6Pmh2LMrMrGgdpHN8Jgn7QJvZbOX1XaeQSDMKvSZP9N7rbtn3e7eNZhAgozVLEE5OWCuQ9fViXIcSG1BngMWotsJDiejmI9oPztvCFcrXuZmVU7yXo1P9lmD5YjmdrdRNMy4hV91Q+2b2juhi2qPFjBlFk34fu4wax3H3z6rh2MwQFehXFfXccIUgKqU7M2JdIH03NF7kyyb9gbhpWeuhnRHChfTaprItbXLj6AkiBwl5TJ/rS4zYDGjRwQajOGfkuAb8df89ZKEJv5UFzZKbCFonsXdnUfmHFwXH68mFLwdUCx0kFdKwMD9lY4TVjpBuE9N9/WTPq/E6kaS+3WXyGi1TXrzZI+M4dW8KPOJ6u9HEH96IXiyFpLurrQMhy5D/YfCXYVJXE/7T//wWXCChVrRiv3WZMrAVuTZI6X4wzjmDpwIjEzJ+LTVh6lyp7D0oBS6M7lYN39NvKREv42ynkbuNN8Ob3AnKCj4Q2PiXi0Gko4CPmkrFJvAksjJ9WJcq1Y5LKurWs7pGMzxFBs2dEr84PZw5NMu7uGnxr3DnuIy8VZvpcCD9yXboPFLJMmlSmOKDkXf2rhnQQHKdBEttgYbw6qd+rq2OZ2c04V1kHAKRtLx6dbzdTTecsqpRZIKV1MNCmzB7p9yph8LOY3/43au3uKmhr+sGRitoN6Sb9Ify4/FK0PrO1XSeRX4msK9n1m4Q9qld3tqjaufVs4FZcAgyxNW/hV3LaVLjtS8jGLlBoqvDQGT9ZCi52eqdMmYqPRRBlHltJKArfFsuWVjlb2NfpmQ+pGB5yqJszjQI1mdOK+t++3D16uAHPvcom156oyjIwkmMCChomjXvWhwpBNBAo1Q4pSLZo1ooi2ddIq+1aULq/6lEkL/X8zabOBCkbZfCHoip1encO/vuLw/p3lc5eci0yJhhYmRsiji315t9woBZmeRpNUijwrLyJvSHaDPBGLcxQ8jjE1McA+qBRQ132owW+i9+JWRruoQPTgTI03W+pHhrI8bvI+EImZAiFJ2Qu22Y/ivBmXX4wq5iEcCqUfn/nCiHhAYi9yX+Z3a+9o9q7M5MeWjnXGXR586ZA3kVAEFA1LePzvfar63s3NqZfM8rEDnEoEi7VL4va1/X5ycsUNwXCsBffEV0azl7YHEx5l25Of7778E3Vv7ukKlrT+e1B+J8pCNE8AR5/r/IgrSiopqtrRUuBqE29/cZBk8UmHUjUNr5871NiO6b45BsqmSKakh9CcilZ4CmcrqNHmVmkZ34+q4A6aSx5wUqD0mOTMjbcj+gzF08Wn6U4jvPS8T0QcvJkGrXmEioK0741q9FtQbFJtwzkcwF4tpO1qBaF2JVbIE0KRn0wy4pu5rgqwJyBgfsso2yOFJQ1CfoQLZx1EoBHEp1KjSQRm0qkh/Lp7315MnSgRGnJn/DyIcDgbqXURh4B5llkes0BuMoE0tRGNTfrBZsjYMAt6xAG3NefKqDoSCx8YJReYwYuldyUCmVDAMUd/mhgnsb5Yh5twqI/btRSvutkRhD1qHVD44NclLCjb4dHlZUewxAUt5GMHfwy1qkfJJCXrYDMgKwegXLpkfEBKLDuwg0686dSJpE3/DCkbdOtUomMk07yHpkJZT6ebdsoxJ04ivpaxaqIx0QQGjc8a+4Jw23uYdjVDoQ6rIMiShDAgBAoQZgF/twLnZj+4SdqaE5U8K68uimSgMRK8nL5nlj+kGg6GEiZEAeQVwCnADL5wz5oxk2VCDQmSr+N7KpE3dTzCAtY3FKe5WhOd2BqtdJVNHjG+ngq7koAhgbyM6eD1qRX2XMNuxZdeEFoCaGey/PtSoatajuUzhqXXKAvxkUHzHU7+2B3rCWvaAB9vL8Q7g3aq+aincfp1a8z8bFCJqXu0mATfXNMkzl+ez0Q/X5cYT0yflNC+rXQOlFs+Vryh19cVVbuTgLMk14hVvUXWKC4p4tiS+9GTwjO+WnxoX1I8CiHcamxmbh4YY5bNc9jGcLbSpJrvCDDSUSpV9QbiT/qlFvhXgm3FdpbfORrLDayatnFgNAdt1PHmMsIWLXhMCDWweJLGK9fNs9aTohoO5utNvMok5SOEe0any6vWRpqxJQOc09eF7SjUPDNpHfRHy87V2EMRxtsLMXpgV+k43XU/mid5WIFZRHC/si+ox6+rd8FOIhlOuwgMUUG6mhukR1Gi1UFvcykFZVzpJTikCaKimc/rPx64oA7/nYmsuLx3r7mh2EgeBXOGShC1psWhfRSnr6Ye1ZFE+kJGdcx5OXYrvR8bdAGbUxmHys3rnTgsRsSigr6zE4DM9eULDMoHGRh3SsDKtpP43OjY+ASd3QQ9kMxGMr1Kxb9aWURfEAkHCCDYvI95uzB9DL/JvH77k0FKaV3Axi5qeYWMx6c3O6G9dWXWJIkgi6df+rzpQbyVvulzBMT0BoDrHTtLQEmPYYwhzaUrIVV4c9Sbhm6as5FMhXT0xAAzOR/B8McoMiYYAcD0+/QZcy7w1/XpK5l389RM1pNbtFmBGDzlLu2TaVJEMd4BtL9seBOrOdFRMzfmrSJZYzvusC/wjrHkO1RQX0JENj2xdRSt8Uufb8NwkOjOsJSwysVYXokys2gn1LjjQ17e9EsC+EO/ySm129vipo9wYrmPNocE61Dx2OfNICdX0TPC90pC//7+GK8xR7OwYZZ4Dw1pFraeXsQR8d3p//g3yn33ZWIJrgKONBHy2eWsvovGh3I2xvwgEX8H/yvxOzCCIBSg8RYAOkZYA41+WDp2xmcN5XyuxA1o9zeXQnYt7aTAGVPek6mSlLPby51NhLLwX4NTgy/b/ql3pUYo0II3jlF/Jy3ynbrQStcZHnBD1V6RUfM3mcoQy302WSIxZLCsq0zKYKXVLGIe3afes8Bio/IroJcKg9AD/vR84UqhqkSl0b8Ab3H0KwnYKPckovvObOJqXZE4Oi1DGqwnaQD4AtIQbKz+nIk4oS233QiqwH0lvATKNFrE1bh0ESAXBTgvWLApn7FmMCuXD+SiTN6vSrDd0Ox9Z+oTpyqIW/sLiTpKUWbTG0UGE7Vji/U6P4tVtxce8D37Z0uabKIqfLQau9qeko+jWti8VTUhJjKf/xrTC7YTIw+0rMN+wve9q/fosXfLnL+9CKkNLWCAdSTO8WNZ6fLKvFx346OQvNhefIGRLZfue8Iyl4nCnMoXyvphHzLQOWdF8SHmdamkm8PkDHM/LQVIf3Y8eTPh4+2h1oKlLEMwqRIy8OT9MKSyGzDS04Q+Oa0lP1exZLFdJ4DwKUF3FwKyU6vu/JSMY2IB+t0D6/dFq3lWJJgUNMnPaBMDsCtXLJEnw+2nFWFJxiBrkiawoh/ws1M13GPxz0aFVgCAzMmPl6Yk0t3y/mrO0wbYs5DILfrzF0ANLHxuFHCSzBkutE2Hu6949LS+KjMTAVIAj6XrHYJ3DX2upZv3bOWB3fO2tirVI+rHk+9s9FjAsscDpQRzYt588C2aLxXMFBcBk8sj2CB1JH59bRoxqHfQrPN5DS2aaZTQCsVe9Of3P/R653MJg+S4M4YnPDCil4cXEYnf1S5+jM1M1oZzDIc8cCf8f6b4l8SVwXG8xQRh2jinRxYHlDgh25/XLC1Qwy66xjBaLbBDYfwvVufiVBg9MGBqJQcHPb+PVSJOfQcxiANs0GuYDcLTSd3eZrQsjBTeSefy+rEhScSr1PlegIS5JxynDjfIThrPNR5C/Ln52wmkDFnccVK4lZLFvi4SiP/RS+DfrD100VrZVuxGSImdweiEeFWaDfZimYXXEt9zrNxEonw0cgVB1bSazbjl5oLVCy4U2ZV8YDoWcFjvaHywBW0ZOQhZjOpjvjlnFtQM354KyAPoQ8cuv2wG9Bf1w6CNdjvg0R3h+elN24k5mrCuHFXzQjK+CIu26bLBcNnHPxJhFL0OIf4L/GESwY9FMqa7Hu57srb8+AgMgXM1Sf9CfYBPewxt0BDqxlBbQIOuyR09Xfe7nTXc1VnSmtcmLW0xplK+5bkJyex29O6rrhJz3Mmuynomg2ukW6IsVSYhXIZouoCySspq3RIqXc5VIuttjNXigtENrAlSaXrqfje8EAKQfqW5xPI57D1DVXd07PNXH0yF5ymTRfuE01sDj8piY2VTSloBcCq46wqxJMMZBMNDvhEpi59e2DyUw9FPKLAyETIfynVRpZb6eonZI46iLRHsJbbZ4pG7UrUaYRj7ckDOLPOtB7MdXfLEYN3wVRJxWeaLYvuqTiOGVTichCKdFCqDeTUM9m8prCM6xXnNo5y/3uCNVXQKQhqbWIpPJ/0aeiulsTkLe9JUERocj+9i3aBRxB9VVgF71Sz2U66magNXBoVz8W4FU4KNtvJj/Os9jrmWMIU8Ls3UgI334iKGshJJX8CjJZLCxbW8pdNltVzoz7J1cduWdg4M9sISgYmcNWJ3kVQ/QDzKm+fvn96Ui5u88Ga5q3L2thjNEaBjeXGnbqZmWF7Kl6bk6HiLIzkJy/MzpF0rRvTR+sLbdUndziiBqKkoGMoEOCLmZoEIRelGDHs5hUaWgHhOgjFg0Mru909P+V1bVLlsxKq+yfxGFJpkAFWHtU3lA6ZB6ml3Q/c0MrwaGmzxaHyM3fi6wMmpYXH5/UlYUm6cN/+jx4YGAPSRJCNB0pngbLDq4L9Pdl7uCARFYCNlNDVFyoIat8SQgn7j9k/dEI1RWSJHFmf/RP29oj2X+uvGNyb38sa/pHQUQJWIRoVvyq8NOkIg9fiNxQnzZ2uiz5fd52113kuSNFRfua0jqsOnxrsw5OCrIPrM5lngNbWavzuYIf8HU+CwCOxWGBsJ958sxVJSoz7czTWYAWdyufEgGIYWkdN3j6HDDehA2QpBbEEVPGA5lFEi9ETcTIz6D7OgvZbL7lY8O0t9G5s4q37cGutKFCOCSIiyq8BooZmkTOWYVSJWSPf3Dfx1EXERWALojOZ+OitPGXFkvQXbAQ5kAY0smBLuRslN+EPu8GtBPxcpuJVOCESXMhwPB9jHFBTgWT4QFHQPE2dwvXGkH/qv+Itj6wl6wM4GWTqOvRCzMqbbUoqW3CqQ7YJD4tsTpZmItmAN74VZmQP384vcPaF7JdVgGMDoiwN9PKKu4EuMg1dC7qVMtXKTRPk3uA0uIpzlq50haWEQRETk+l9HxTJPamCRXVf2FzSTbV8cH8nQ5ByJd9xhUtjuaq4Yc7hTraWYSzGnJ/00ZQV3cinwL9RAvZC5T70bRxzFafFbooAJ+MbIITttl1KTP8TTOutQjrceIIwURawGhZOq3fSf6w0PAFHuFUzBuUSt9RQe0wFHzk3SVMIWHMY0+CvACvuSMedY3lvMai17ePCnRmH+b4TaAwDZbflEoDssS/2qF2Hmv6T4AFBrVFY1QWHRyGyK4D543+r3fLXHZEuFzFF25qxVNjgUC3upG6u47dcNOMM9Cc1r0zNti/b01PHHtj84GzsZ9FIfmgidVgVcslU2iOV2lyOv/5idSdCSjDix9u4QzndEd0GbDo+FboEpUo8iKPptvrY3eAypv3lxD+xUdAAmE24VgxOU7umnvYdAnbqjbpO+VYfhkVBDIC9vzsbmlHwAkDhyxvRt0ysV3PF2ojqdLv8EZpfQr0G8TnPxxyEIELvxJjKAX5uTdHu/OFhb0KulgqCRPFKx3hCBfq2ixEk5gxSxCP9vvkOliK1LlTsDbgu9yXXi/eRjFgOTUecmeLTyBfZcs2KriEDhIA15UxpZvvZRpmkeCqGdk1tkFP3yeJnpZnQLKztNoLjnKHt8uiL9kyelZ1OL9rDkekzQTUKzXTcjJgroM9AwGd5DRwYuZnhURXhcx0HUrbI44xoEGdtaqowk0qOTAVYv48UwauWb1cUM8bKhio2rIqM+on7Zre7f9AbQe+MqjxrxyiLFBNBaE2p7S3yEFZYUY21R24AhUDw3i/n9F7cPU7KiTBkFr7lZOnVHjmhBmPm5yVtTj5mS8JSvUcjhifUdzW6MysyZ3ZdJ4+G2ISXYrFmM3GpszWOiQzPUCibNAgsMia6BSmCZi/c9/7PmFhMJ3J2XqXfrJ1BeSB+8E3Oi8o3beVU6KZpS5ZVu+MrnuI5eYLbPG53g04WoZP9bGPt7eUaZU6ZpE/LJXSY6RcS/5G/Eo3/MHX6XkqX7XheEBgVFkTtAuGA+EXw9vyAgKPNJmXFhTEjnZaPMHNOYGGAkAg/pPI2rDgaUoJWXKOlt1OO4ZxVk8AkCXbzjAAEXRooh1UQLVJaQfL8QJlJg+FHLniysoPOgta+rwFdp+DriAL6E6cOWK5LK2AI5XpAGBd+dQfjER/Asl1ns+XwoLqhiNAdDs/L84cOJL61CMyQ9ZmGUcfTKZMH560yKlAQ79KOmsgJcwT8FAfSYJjc2VnL1tO9aEzCBbbjE8sCntoUnjSMx0UAo2vgm+LSBAeqhMZFuC5Hhs73y3LY8B4oUG3hXbIVpb0HhZHDKzTDatgh2vPDj0RoRVvZBfP8rfSbhQgJEHgvWlG0MggihsFUtUk7U4S8SJqvapJWSmI69B/R0HR722ra+uhh3lRFO1xOwkOhAtrM8WBegBdi38covpgxtV4dJrMDBz3CRAYOfvsWE+gs7toFsz56V4dnlHOCVBXn+6TU1799I/eNCXte4fEyQKQIPxN4YXRdCFu3FGfZsYFNsPZmBXhkyQQBqfwSB73pToIxCFhT/wfjaPn3XchxsM802oifofnSF/FZRlpygpLR1uOSqYd94oBoekIffuMNLqSgus7eR0J2MQ7Xi3iqZiy6iEn053NgzMvg1p95hGMySrZHwCoa9RPc2sqciiXuLclBz6CWL2YAbWGaWTpkrpEaESDuhlNr4nhAsPktheJkPhJLQBjM6YeXzFCubSIyIbtUGCbSu1XD8T8jW3ix1ZR8+WdkrDQnVkCS4/qgMvDP2qBJ3u6GvGkzaYwlJXIrAO2hUGed9Qh9dkC89iqNHjB7iEUOW88+HCchyjYcshKltgRGSXts8U58q9KPuUXrDQHPIt1QBgrqPZa2yKoK5NGpLhweIYaPkC7rigdY/Aoe2/WQJ/6CEXIsJ3HT8v/4QAqWPrKV54xnCit1ShavazzPKKNHzqmAGLzfygHR6isZD7JieRVlYdnxlmX9sUfnYMowUEpfZZ3o3SLd3rAedctiROBAsdOS/1iTNrApS148XUBb9b1MQtjit67ovFlvuD5mOCKIPT6mYI4Xof/C+dNrTNdw60aV8XTsZbWHg6WM6nEAWfhLi7hALwT4ShgsDks7+fG5zcg4JEFjaWtOPtOY4cxOhT5OGnUxydttagoqvMBooizdMdTOXTCJdh5Tfy5uctAr5zGRKfr/1PLK6aV9K1ias0VQFRe3Mx3n0Q7iP1e+1tq/jXyIKslYeinmrfrzTEGmOK2XKF2/+fgNzTkGwHdBDC7oGYlIOpPy8loyM46XGRjx1L2bP6ktcX1Qwvq5Z/wPN1T8YCJF/N7g2rW4JGSjsfwlEYUgv3Ku/VFEh2BFbG7CNV09AZ+Lt2vE0hxQXSjmnbDSTpXGQOAF+FRPU94nRyVpa6q1v2nbWhKMyBHwyy3HQ9yUkcjUfLB6VIqDKPlvGshcszg0kZ+RtrS0AqpseoaOuOzvmjq57WYD5QhpoGAJ7zztxJDaLcaFqifaixGrYvBQAhLT2v8AAADUQZokbEX/+lo2WPLe5IJdHkFmS5yOgjnTP9LGBAFPbAMcHCauAG/qfwGVA6IQlMoCOLkU3l0T1K/mZ4i2nKSZq4j0PyAnN3QO096DMbroKCQw1pW+07aqMp3AsKeXd8UmWkqMp7Ox1rMk7n6Yx+3YKfahUn5aQ8/x5JbrW0+8Dl9pkOpNsR8S+bDQKwzdUL9JL7tuZDiT9NO13XpfqqsceRg+q0iQfsjCSiPWFU/KyMPKH5WkLC5Wlsy0kkcRXX6y+HPvi+lTs1N1g85ppbN7VsN9RJwAAAAMQZ5CeL8m6wYZwfaBAAAADAGeYXRXM2phqEfmpAAAAWYBnmNqV7sTIiLm/RE19FD0/kIEckVhJrbQ47j8S9DqS58F7fuOEz90ZamZ9fJjWZRt7PTdqyz23eNL5L5BvbhIRmJ2ZwzqHDv2UjNkqvnIQPSE3Kwk4mqjxFHP6AZ+beZe8lHZWKPJvcvnbEAChcCyzHTEKMD2LPk4CpqdzAaWENbs/74wsmTv/Pt0xFh3Pgwr87Lxyvab0WdIMq2w87TIkF9yMEtXxmgXupqAgv9HmjHJ2gXKIwtpyD3UnkvwnGHlPOIUzrIkEXyy1n9cw3T6xRd5jbm2TCsgO44fk4u1Spx0f/ET5Rst/htEfoLwZVbl2A1qPNkKqM8Gr296rUlL6uNpvFTtNJWpo1Z6cBn1kWUbrX2Xl7pU5Q4FPDRgF+YTw53eyCmKS/20OzZzUEEOd/VD6r9z7sG5tbdKbWeC0V7YfDkX4hxUSdVe924K82GAaN/A1YlMp8kZ3QgKGn0Rb1Xf9b2ZAAACkUGaaEmoQWiZTAn/s5bIqPQse8FcV4/FNmt/Gjl++aaOvL7tvxFvliT7lXEo/F+OACVAa35hI4wVbcWvmt1neOTy7/XRh/mXECFhYd8EylgTsQH1w1n7S9bg9GslyASQQhCZW3TxJbPffUB4uoG7T5Eg5DFeNCQNMi1Bv4uc3MskBirae6IIfNlMPyaCcWG35eD5ra3diDo/3gYOpdiDeDotTcHx9Doc8CwsgTaTPJMy5Tko70CcfI0yUFL6zbR3RP9IQyNioAOWzJB8XFpqja+x+zFQT2mR+byZzOdSRe3ITLOGmNa/CO+PlxOJPAnUiKpzVwedvuly4EkimmtQ8jbGTPE7fhSOmj7h4e0XRapJ7RsrSgNwZcPejXrxgwagxMS+Is172dzIaAA0WezxkKu4uZioSMgFDQM+gtKgZePx4uaI8VM1FYyEe3PBFziX95yhLQPDobIKkFA+T/YMDoMZ8BQbiQXLeoD3nJXjB/xiczWuo8gt5nHt8mFUvz7gf+7ebUQvZiOzW6ikd5UL5CQzXyWAPiHVXe3EH/BepyZ9U0BHrK9FE04MxpBi720TA9DL5O4Goib32MBxXTtvgnEPgFiqgKg2G1G3Byp+v25+U5I1RSaSrHBzq8l/Ru+JxBn2aS6tRBdXKEhsEUmgFjdQG0U2hDoX7isN8r4oLtTWCGVtEtekNFxWJbeI//wlFS98xhf+pzqOcx5BmecOOQKsThP/DrzamOySzFfL0ifRrT6zJF+KE/1MW8G95rJOh1rnCvwhpX2d9h14fWp0YQbLZoNjRn5fkWwJA96QBCLZl+yw7/zUDlTgV8dRXQz7RrjOkR8FIYMiM5fRu3quu0X35B9dn+YtcseVv09SeeG5WQAAAA5BnoZFES3/yPSJek9txwAAAAgBnqV0VwAW0QAAAUMBnqdqV9Lxkd8L+ReImvooen8hAjkisJNbaHHcfiXodSX6p9Yg6i8a29QMuuWpfiRIGvO+heR1qH2bteaF/tjmHWOgfEBnvZRBhLrD0fZwoa845suyt6bsEzw/HQRAhDR2b938sEqvDHU/VQGJLx3klkrxzNMCBb8dTlqOT3WUlqw9KnzAX6Ptn0kNgh529wa6BfKXG+XzHFi3yihepBA/gRF3nBLkh6ClmXIi/74C0StjsUM6VQ6HiQWHeJHemx9dwQHj98hAFUhNv/IAMWmFNJTmt81CXt9uXkiUM+1M3GZCCeaJEZ6kcJ9aXKimXD8YNRhG2adY7nTUz5vYqBvoo0EwB3daNxe+x9dGH38r6MKYuxyRZzJpDiN5K87uoSTfmNfVKDIERRPzKKIpEsjIHtLbvIATMSfjUsPCjD5nnKCD5gAAAx1BmqtJqEFsmUwK/xJm9DTNIAzoUJn0E9M//qP26jZB+gL97ZrcnYCnM2jGQYMwO8vEBut3wn54B5CiW+v9ZRIhswaLz3a90HL1g+SVO9CzNdbB+L6zv06pmYfNG9LrmaZ4KiFZ7Hj3AxLHj82DFQAY8XlfXY2zItSMoJE8CoUtAD7nLOBdZ4V0UYeM5dBr/Mws4GNaqB31rNO8P02amB4fpVMaezrTvWHGgZ+f/RaN73lpkD35tA5q14WNC4DYTRFjitHwhmJXkFIOgEV1W1BZKMaRV8xM6ffjU5FI/V5b0f6/r29nOrucW8KEagzBLG/9ZNxuBr5buPQ/kG87Q+ccpUeY+YONbAXDjs7Jcx9kntMC+Wb03apJfmwIeX+/f2kRUrBkf9dCzAsFI2Bk0JAksPm+IGQtAAvjzpwAJ8saIsFEFhiTBEt6Mcx26zG9elB9+qNFn7ftPB2uhvkSMUMTVMYUzqe+4ISDxvyiBnFkh2JTuRwp4C7ezuO9dAiCVtEqKMXtHMVKv3SHxCOKWjVgk7h738Vq2yi4qzP6SySCixU03Kb70t1K1JpB2CQJ/RALoONM9uqePodSYvyxWnVRessoZEQ2Bi+zaS/4QUWtGdos4X6i2CSpBNUQtBlAZNxJXPWknXC0Y2R7HlTPHol6HPZ/FqkXO0SiD/DisRG3/PjwvVu6ylKyTMfMrjfEV8YMZbpY2BThgFzZBN2U77fyVoBWIJ4r3sOH2ffmcsqK/nXEBro/aPOCF9XSq4Uxn3qMqPRUxsUafvLnwUsj1mpMG4ta0suJ4/Xu5qiPvZigo7WV0opVUrbM/NyCeZpM+xV6Ix8SUQcss6UZApno1QayClUQbYFd0TcKFYXX3q2YOTw4rR11eTbBGKZl+s61ZdNzKQkZ5PkJt/pYqypQ0pJ9k+m5ldS0ATYvDLk/fqw94ZIAaRU2jIT5b0TwEO4Pvwwk+6BvB7U2HgcJBTWHX4rGzA2n6uA+aYmGp0nYz1CckTpi9rt23rIguhcKyda2JuEvRqhggda9zUEFB/lrt4Fbi3rj42OkiXKyCpxTfgAAAY5BnslFFS3/dwdLgcVs8lv9fAkngqpjI/wVNfI6DcjD/B9RCNR1AJg5WR0nDpj/prnac12fWglO3m4nQQx1n9J3tUI/iHLcuSEwNhm/Iqwd0xC9V5umF8xd5o/NATMRA1s6ZZPuswV1KdFeQtaF+8tIfFxCd7PyuebcAe2CRbTKPe4LbwHX6Et2YJgSEPHahZKdDPFQkQNzUP1vaDiTJA0gDnqdjthjAxHZpN+Hg+dqGBkjETorDwS9MVpcdPghmVAe43se4878Q+4+b5T1XKWS6EDqQkJU8wcK0sZ9TMkthn0m+UU/TN6P+fgAQmzLhTCmkbB+fX/jh1Tqxp0CPjk6nbq5E/8Y29cmL3ElCF3x3/AJP5Jj8daH3omCaCy7oK0g+Q0ZokvhPLAYBilCjirYUY3Ri0zfHVVV++/3MOAgNxUUkKhz7pgnGwNdY7kL1GwVFVEsMZqMV5DECLXG1KcNx22snV+d19VsLkbNsdiee2Ryhjv2GE17W5udWhYpeoKDpKgNhsd9OarUoUKdgQAAAYgBnupqV3RQHtotG1khf6MBJPBVTDdfgqa+R1aZGH+DnT4sn7nQMW+vdJjF8TEjfoBRe8cy6J7SE6Gt+l8xlj5754q0+/JS2Ol0JBFk94jgySmZL4MJNX8i7zSCsAmYiABWoYWF4oPp/9VidCPnQXwWyQY7JUOIcrnNKUDxgkWv/1QvTCGBXPCLdlwan9v5aCR96vClC6qBuYfeLuTd4QYOpXZ/jggalD2vk5ltC1XN09y2uOuutBRYh27JUsNBrQKxwasLMAiGhBTPEBQmcynMkIQY1ggAu2OgRX/47F8P+p+8pClABoNTlAFzZjDGCcppzcjnvW0V88rBdQKESWnIodW0SK9A6GifI33eTyM2xFR1TxfF0LBb4d8Czv4tRsBezOcBJfD2ZBWdav5raSHNdLYzM+vnz5xD3n1fUOEpBCI9sRkXc4nkzmeQ2lB3NOJy1GAOMl8pm6LCisygy+kgubJvtbuhVP9M800vrLc2jbKnSju3Rr2eoCNMGv99+1kDzFWzgmUi2AAAA7Jtb292AAAAbG12aGQAAAAAAAAAAAAAAAAAAAPoAAALuAABAAABAAAAAAAAAAAAAAAAAQAAAAAAAAAAAAAAAAAAAAEAAAAAAAAAAAAAAAAAAEAAAAAAAAAAAAAAAAAAAAAAAAAAAAAAAAAAAAAAAAACAAAC3HRyYWsAAABcdGtoZAAAAAMAAAAAAAAAAAAAAAEAAAAAAAALuAAAAAAAAAAAAAAAAAAAAAAAAQAAAAAAAAAAAAAAAAAAAAEAAAAAAAAAAAAAAAAAAEAAAAABAAAAAQAAAAAAACRlZHRzAAAAHGVsc3QAAAAAAAAAAQAAC7gAACAAAAEAAAAAAlRtZGlhAAAAIG1kaGQAAAAAAAAAAAAAAAAAAEAAAADAAFXEAAAAAAAtaGRscgAAAAAAAAAAdmlkZQAAAAAAAAAAAAAAAFZpZGVvSGFuZGxlcgAAAAH/bWluZgAAABR2bWhkAAAAAQAAAAAAAAAAAAAAJGRpbmYAAAAcZHJlZgAAAAAAAAABAAAADHVybCAAAAABAAABv3N0YmwAAACvc3RzZAAAAAAAAAABAAAAn2F2YzEAAAAAAAAAAQAAAAAAAAAAAAAAAAAAAAABAAEAAEgAAABIAAAAAAAAAAEAAAAAAAAAAAAAAAAAAAAAAAAAAAAAAAAAAAAAAAAAAAAY//8AAAA1YXZjQwFkAAz/4QAYZ2QADKzZQQCGhAAAAwAEAAADACA8UKZYAQAGaOvjyyLA/fj4AAAAABRidHJ0AAAAAAABBpIAAQaSAAAAGHN0dHMAAAAAAAAAAQAAAAwAABAAAAAAFHN0c3MAAAAAAAAAAQAAAAEAAABoY3R0cwAAAAAAAAALAAAAAQAAIAAAAAABAABQAAAAAAEAACAAAAAAAQAAAAAAAAABAAAQAAAAAAEAAFAAAAAAAQAAIAAAAAABAAAAAAAAAAEAABAAAAAAAQAAQAAAAAACAAAQAAAAABxzdHNjAAAAAAAAAAEAAAABAAAADAAAAAEAAABEc3RzegAAAAAAAAAAAAAADAAAVdwAAADYAAAAEAAAABAAAAFqAAAClQAAABIAAAAMAAABRwAAAyEAAAGSAAABjAAAABRzdGNvAAAAAAAAAAEAAAAwAAAAYnVkdGEAAABabWV0YQAAAAAAAAAhaGRscgAAAAAAAAAAbWRpcmFwcGwAAAAAAAAAAAAAAAAtaWxzdAAAACWpdG9vAAAAHWRhdGEAAAABAAAAAExhdmY1OC43Ni4xMDA=\" type=\"video/mp4\" />\n",
              "             </video>"
            ]
          },
          "metadata": {}
        }
      ]
    },
    {
      "cell_type": "code",
      "source": [
        "# Total number of States and Actions\n",
        "number_of_states = env.observation_space.n\n",
        "number_of_actions = env.action_space.n\n",
        "print( \"States = \", number_of_states)\n",
        "print( \"Actions = \", number_of_actions)\n",
        "\n",
        "num_episodes = 3000\n",
        "steps_total = []\n",
        "rewards_total = []\n",
        "egreedy_total = []"
      ],
      "metadata": {
        "colab": {
          "base_uri": "https://localhost:8080/"
        },
        "id": "bf0anETOGnZm",
        "outputId": "6bf3d14b-e0bd-4e9c-b717-7cc08527e855"
      },
      "execution_count": 74,
      "outputs": [
        {
          "output_type": "stream",
          "name": "stdout",
          "text": [
            "States =  16\n",
            "Actions =  4\n"
          ]
        }
      ]
    },
    {
      "cell_type": "code",
      "source": [
        "# exploit vs explore to find action\n",
        "# Start with 70% random actions to explore the environment\n",
        "# And with time, using decay to shift to more optimal actions learned from experience\n",
        "\n",
        "egreedy = 0.7\n",
        "egreedy_final = 0.1\n",
        "egreedy_decay = 0.999"
      ],
      "metadata": {
        "id": "tnfYhm4VGvFD"
      },
      "execution_count": 75,
      "outputs": []
    },
    {
      "cell_type": "code",
      "source": [
        "# PARAMS\n",
        "\n",
        "# Discount on reward\n",
        "gamma = 0.95\n",
        "\n",
        "# Factor to balance the ratio of action taken based on past experience to current situtation\n",
        "learning_rate = 0.9"
      ],
      "metadata": {
        "id": "IGd0gb-hgY7n"
      },
      "execution_count": 79,
      "outputs": []
    },
    {
      "cell_type": "code",
      "source": [
        "Q = torch.zeros([number_of_states, number_of_actions])\n",
        "Q"
      ],
      "metadata": {
        "colab": {
          "base_uri": "https://localhost:8080/"
        },
        "id": "CWDKIZgBXmVn",
        "outputId": "c524d280-ab55-4796-96c1-7fcb67ca86b2"
      },
      "execution_count": 76,
      "outputs": [
        {
          "output_type": "execute_result",
          "data": {
            "text/plain": [
              "tensor([[0., 0., 0., 0.],\n",
              "        [0., 0., 0., 0.],\n",
              "        [0., 0., 0., 0.],\n",
              "        [0., 0., 0., 0.],\n",
              "        [0., 0., 0., 0.],\n",
              "        [0., 0., 0., 0.],\n",
              "        [0., 0., 0., 0.],\n",
              "        [0., 0., 0., 0.],\n",
              "        [0., 0., 0., 0.],\n",
              "        [0., 0., 0., 0.],\n",
              "        [0., 0., 0., 0.],\n",
              "        [0., 0., 0., 0.],\n",
              "        [0., 0., 0., 0.],\n",
              "        [0., 0., 0., 0.],\n",
              "        [0., 0., 0., 0.],\n",
              "        [0., 0., 0., 0.]])"
            ]
          },
          "metadata": {},
          "execution_count": 76
        }
      ]
    },
    {
      "cell_type": "code",
      "source": [
        "for i_episode in range(num_episodes):\n",
        "\n",
        "    # resets the environment\n",
        "    state = env.reset()\n",
        "    step = 0\n",
        "\n",
        "    while True:\n",
        "\n",
        "        step += 1\n",
        "\n",
        "        random_for_egreedy = torch.rand(1)[0]\n",
        "\n",
        "\n",
        "        if random_for_egreedy > egreedy:\n",
        "            random_values = Q[state] + torch.rand(1,number_of_actions) / 1000\n",
        "            action = torch.max(random_values,1)[1][0]\n",
        "            action = action.item()\n",
        "        else:\n",
        "            action = env.action_space.sample()\n",
        "\n",
        "        if egreedy > egreedy_final:\n",
        "            egreedy *= egreedy_decay\n",
        "\n",
        "        new_state, reward, done, info = env.step(action)\n",
        "\n",
        "        # Filling the Q Table\n",
        "        Q[state, action] = reward + gamma * torch.max(Q[new_state])\n",
        "\n",
        "        # Setting new state for next action\n",
        "        state = new_state\n",
        "\n",
        "        # env.render()\n",
        "        # time.sleep(0.4)\n",
        "\n",
        "        if done:\n",
        "            steps_total.append(step)\n",
        "            rewards_total.append(reward)\n",
        "            egreedy_total.append(egreedy)\n",
        "            if i_episode % 10 == 0:\n",
        "                print('Episode: {} Reward: {} Steps Taken: {}'.format(i_episode,reward, step))\n",
        "            break"
      ],
      "metadata": {
        "colab": {
          "base_uri": "https://localhost:8080/",
          "height": 876
        },
        "id": "GM-vpohsXmzH",
        "outputId": "f882ca21-e3c5-405c-aa2a-dc93528b92e2"
      },
      "execution_count": 80,
      "outputs": [
        {
          "output_type": "stream",
          "name": "stdout",
          "text": [
            "Episode: 0 Reward: 0.0 Steps Taken: 4\n",
            "Episode: 10 Reward: 0.0 Steps Taken: 5\n",
            "Episode: 20 Reward: 0.0 Steps Taken: 3\n",
            "Episode: 30 Reward: 0.0 Steps Taken: 3\n",
            "Episode: 40 Reward: 0.0 Steps Taken: 5\n",
            "Episode: 50 Reward: 0.0 Steps Taken: 14\n",
            "Episode: 60 Reward: 0.0 Steps Taken: 12\n",
            "Episode: 70 Reward: 0.0 Steps Taken: 7\n",
            "Episode: 80 Reward: 0.0 Steps Taken: 7\n",
            "Episode: 90 Reward: 0.0 Steps Taken: 5\n",
            "Episode: 100 Reward: 0.0 Steps Taken: 21\n",
            "Episode: 110 Reward: 0.0 Steps Taken: 2\n",
            "Episode: 120 Reward: 0.0 Steps Taken: 16\n",
            "Episode: 130 Reward: 0.0 Steps Taken: 12\n",
            "Episode: 140 Reward: 0.0 Steps Taken: 15\n",
            "Episode: 150 Reward: 0.0 Steps Taken: 15\n",
            "Episode: 160 Reward: 1.0 Steps Taken: 16\n",
            "Episode: 170 Reward: 0.0 Steps Taken: 7\n",
            "Episode: 180 Reward: 0.0 Steps Taken: 2\n",
            "Episode: 190 Reward: 0.0 Steps Taken: 4\n",
            "Episode: 200 Reward: 0.0 Steps Taken: 6\n",
            "Episode: 210 Reward: 0.0 Steps Taken: 4\n",
            "Episode: 220 Reward: 0.0 Steps Taken: 16\n",
            "Episode: 230 Reward: 0.0 Steps Taken: 4\n",
            "Episode: 240 Reward: 0.0 Steps Taken: 8\n",
            "Episode: 250 Reward: 0.0 Steps Taken: 5\n",
            "Episode: 260 Reward: 0.0 Steps Taken: 4\n",
            "Episode: 270 Reward: 0.0 Steps Taken: 4\n"
          ]
        },
        {
          "output_type": "error",
          "ename": "KeyboardInterrupt",
          "evalue": "ignored",
          "traceback": [
            "\u001b[0;31m---------------------------------------------------------------------------\u001b[0m",
            "\u001b[0;31mKeyboardInterrupt\u001b[0m                         Traceback (most recent call last)",
            "\u001b[0;32m<ipython-input-80-543519e8b1d7>\u001b[0m in \u001b[0;36m<cell line: 1>\u001b[0;34m()\u001b[0m\n\u001b[1;32m      2\u001b[0m \u001b[0;34m\u001b[0m\u001b[0m\n\u001b[1;32m      3\u001b[0m     \u001b[0;31m# resets the environment\u001b[0m\u001b[0;34m\u001b[0m\u001b[0;34m\u001b[0m\u001b[0m\n\u001b[0;32m----> 4\u001b[0;31m     \u001b[0mstate\u001b[0m \u001b[0;34m=\u001b[0m \u001b[0menv\u001b[0m\u001b[0;34m.\u001b[0m\u001b[0mreset\u001b[0m\u001b[0;34m(\u001b[0m\u001b[0;34m)\u001b[0m\u001b[0;34m\u001b[0m\u001b[0;34m\u001b[0m\u001b[0m\n\u001b[0m\u001b[1;32m      5\u001b[0m     \u001b[0mstep\u001b[0m \u001b[0;34m=\u001b[0m \u001b[0;36m0\u001b[0m\u001b[0;34m\u001b[0m\u001b[0;34m\u001b[0m\u001b[0m\n\u001b[1;32m      6\u001b[0m \u001b[0;34m\u001b[0m\u001b[0m\n",
            "\u001b[0;32m/usr/local/lib/python3.10/dist-packages/gym/wrappers/record_video.py\u001b[0m in \u001b[0;36mreset\u001b[0;34m(self, **kwargs)\u001b[0m\n\u001b[1;32m    107\u001b[0m                     \u001b[0mself\u001b[0m\u001b[0;34m.\u001b[0m\u001b[0mclose_video_recorder\u001b[0m\u001b[0;34m(\u001b[0m\u001b[0;34m)\u001b[0m\u001b[0;34m\u001b[0m\u001b[0;34m\u001b[0m\u001b[0m\n\u001b[1;32m    108\u001b[0m         \u001b[0;32melif\u001b[0m \u001b[0mself\u001b[0m\u001b[0;34m.\u001b[0m\u001b[0m_video_enabled\u001b[0m\u001b[0;34m(\u001b[0m\u001b[0;34m)\u001b[0m\u001b[0;34m:\u001b[0m\u001b[0;34m\u001b[0m\u001b[0;34m\u001b[0m\u001b[0m\n\u001b[0;32m--> 109\u001b[0;31m             \u001b[0mself\u001b[0m\u001b[0;34m.\u001b[0m\u001b[0mstart_video_recorder\u001b[0m\u001b[0;34m(\u001b[0m\u001b[0;34m)\u001b[0m\u001b[0;34m\u001b[0m\u001b[0;34m\u001b[0m\u001b[0m\n\u001b[0m\u001b[1;32m    110\u001b[0m         \u001b[0;32mreturn\u001b[0m \u001b[0mobservations\u001b[0m\u001b[0;34m\u001b[0m\u001b[0;34m\u001b[0m\u001b[0m\n\u001b[1;32m    111\u001b[0m \u001b[0;34m\u001b[0m\u001b[0m\n",
            "\u001b[0;32m/usr/local/lib/python3.10/dist-packages/gym/wrappers/record_video.py\u001b[0m in \u001b[0;36mstart_video_recorder\u001b[0;34m(self)\u001b[0m\n\u001b[1;32m    126\u001b[0m         )\n\u001b[1;32m    127\u001b[0m \u001b[0;34m\u001b[0m\u001b[0m\n\u001b[0;32m--> 128\u001b[0;31m         \u001b[0mself\u001b[0m\u001b[0;34m.\u001b[0m\u001b[0mvideo_recorder\u001b[0m\u001b[0;34m.\u001b[0m\u001b[0mcapture_frame\u001b[0m\u001b[0;34m(\u001b[0m\u001b[0;34m)\u001b[0m\u001b[0;34m\u001b[0m\u001b[0;34m\u001b[0m\u001b[0m\n\u001b[0m\u001b[1;32m    129\u001b[0m         \u001b[0mself\u001b[0m\u001b[0;34m.\u001b[0m\u001b[0mrecorded_frames\u001b[0m \u001b[0;34m=\u001b[0m \u001b[0;36m1\u001b[0m\u001b[0;34m\u001b[0m\u001b[0;34m\u001b[0m\u001b[0m\n\u001b[1;32m    130\u001b[0m         \u001b[0mself\u001b[0m\u001b[0;34m.\u001b[0m\u001b[0mrecording\u001b[0m \u001b[0;34m=\u001b[0m \u001b[0;32mTrue\u001b[0m\u001b[0;34m\u001b[0m\u001b[0;34m\u001b[0m\u001b[0m\n",
            "\u001b[0;32m/usr/local/lib/python3.10/dist-packages/gym/wrappers/monitoring/video_recorder.py\u001b[0m in \u001b[0;36mcapture_frame\u001b[0;34m(self)\u001b[0m\n\u001b[1;32m    215\u001b[0m                 \u001b[0mself\u001b[0m\u001b[0;34m.\u001b[0m\u001b[0m_encode_ansi_frame\u001b[0m\u001b[0;34m(\u001b[0m\u001b[0mframe\u001b[0m\u001b[0;34m)\u001b[0m\u001b[0;34m\u001b[0m\u001b[0;34m\u001b[0m\u001b[0m\n\u001b[1;32m    216\u001b[0m             \u001b[0;32melse\u001b[0m\u001b[0;34m:\u001b[0m\u001b[0;34m\u001b[0m\u001b[0;34m\u001b[0m\u001b[0m\n\u001b[0;32m--> 217\u001b[0;31m                 \u001b[0mself\u001b[0m\u001b[0;34m.\u001b[0m\u001b[0m_encode_image_frame\u001b[0m\u001b[0;34m(\u001b[0m\u001b[0mframe\u001b[0m\u001b[0;34m)\u001b[0m\u001b[0;34m\u001b[0m\u001b[0;34m\u001b[0m\u001b[0m\n\u001b[0m\u001b[1;32m    218\u001b[0m \u001b[0;34m\u001b[0m\u001b[0m\n\u001b[1;32m    219\u001b[0m     \u001b[0;32mdef\u001b[0m \u001b[0mclose\u001b[0m\u001b[0;34m(\u001b[0m\u001b[0mself\u001b[0m\u001b[0;34m)\u001b[0m\u001b[0;34m:\u001b[0m\u001b[0;34m\u001b[0m\u001b[0;34m\u001b[0m\u001b[0m\n",
            "\u001b[0;32m/usr/local/lib/python3.10/dist-packages/gym/wrappers/monitoring/video_recorder.py\u001b[0m in \u001b[0;36m_encode_image_frame\u001b[0;34m(self, frame)\u001b[0m\n\u001b[1;32m    281\u001b[0m                 \u001b[0mself\u001b[0m\u001b[0;34m.\u001b[0m\u001b[0mpath\u001b[0m\u001b[0;34m,\u001b[0m \u001b[0mframe\u001b[0m\u001b[0;34m.\u001b[0m\u001b[0mshape\u001b[0m\u001b[0;34m,\u001b[0m \u001b[0mself\u001b[0m\u001b[0;34m.\u001b[0m\u001b[0mframes_per_sec\u001b[0m\u001b[0;34m,\u001b[0m \u001b[0mself\u001b[0m\u001b[0;34m.\u001b[0m\u001b[0moutput_frames_per_sec\u001b[0m\u001b[0;34m\u001b[0m\u001b[0;34m\u001b[0m\u001b[0m\n\u001b[1;32m    282\u001b[0m             )\n\u001b[0;32m--> 283\u001b[0;31m             \u001b[0mself\u001b[0m\u001b[0;34m.\u001b[0m\u001b[0mmetadata\u001b[0m\u001b[0;34m[\u001b[0m\u001b[0;34m\"encoder_version\"\u001b[0m\u001b[0;34m]\u001b[0m \u001b[0;34m=\u001b[0m \u001b[0mself\u001b[0m\u001b[0;34m.\u001b[0m\u001b[0mencoder\u001b[0m\u001b[0;34m.\u001b[0m\u001b[0mversion_info\u001b[0m\u001b[0;34m\u001b[0m\u001b[0;34m\u001b[0m\u001b[0m\n\u001b[0m\u001b[1;32m    284\u001b[0m \u001b[0;34m\u001b[0m\u001b[0m\n\u001b[1;32m    285\u001b[0m         \u001b[0;32mtry\u001b[0m\u001b[0;34m:\u001b[0m\u001b[0;34m\u001b[0m\u001b[0;34m\u001b[0m\u001b[0m\n",
            "\u001b[0;32m/usr/local/lib/python3.10/dist-packages/gym/wrappers/monitoring/video_recorder.py\u001b[0m in \u001b[0;36mversion_info\u001b[0;34m(self)\u001b[0m\n\u001b[1;32m    447\u001b[0m             \u001b[0;34m\"backend\"\u001b[0m\u001b[0;34m:\u001b[0m \u001b[0mself\u001b[0m\u001b[0;34m.\u001b[0m\u001b[0mbackend\u001b[0m\u001b[0;34m,\u001b[0m\u001b[0;34m\u001b[0m\u001b[0;34m\u001b[0m\u001b[0m\n\u001b[1;32m    448\u001b[0m             \"version\": str(\n\u001b[0;32m--> 449\u001b[0;31m                 subprocess.check_output(\n\u001b[0m\u001b[1;32m    450\u001b[0m                     \u001b[0;34m[\u001b[0m\u001b[0mself\u001b[0m\u001b[0;34m.\u001b[0m\u001b[0mbackend\u001b[0m\u001b[0;34m,\u001b[0m \u001b[0;34m\"-version\"\u001b[0m\u001b[0;34m]\u001b[0m\u001b[0;34m,\u001b[0m \u001b[0mstderr\u001b[0m\u001b[0;34m=\u001b[0m\u001b[0msubprocess\u001b[0m\u001b[0;34m.\u001b[0m\u001b[0mSTDOUT\u001b[0m\u001b[0;34m\u001b[0m\u001b[0;34m\u001b[0m\u001b[0m\n\u001b[1;32m    451\u001b[0m                 )\n",
            "\u001b[0;32m/usr/lib/python3.10/subprocess.py\u001b[0m in \u001b[0;36mcheck_output\u001b[0;34m(timeout, *popenargs, **kwargs)\u001b[0m\n\u001b[1;32m    419\u001b[0m         \u001b[0mkwargs\u001b[0m\u001b[0;34m[\u001b[0m\u001b[0;34m'input'\u001b[0m\u001b[0;34m]\u001b[0m \u001b[0;34m=\u001b[0m \u001b[0mempty\u001b[0m\u001b[0;34m\u001b[0m\u001b[0;34m\u001b[0m\u001b[0m\n\u001b[1;32m    420\u001b[0m \u001b[0;34m\u001b[0m\u001b[0m\n\u001b[0;32m--> 421\u001b[0;31m     return run(*popenargs, stdout=PIPE, timeout=timeout, check=True,\n\u001b[0m\u001b[1;32m    422\u001b[0m                **kwargs).stdout\n\u001b[1;32m    423\u001b[0m \u001b[0;34m\u001b[0m\u001b[0m\n",
            "\u001b[0;32m/usr/lib/python3.10/subprocess.py\u001b[0m in \u001b[0;36mrun\u001b[0;34m(input, capture_output, timeout, check, *popenargs, **kwargs)\u001b[0m\n\u001b[1;32m    503\u001b[0m     \u001b[0;32mwith\u001b[0m \u001b[0mPopen\u001b[0m\u001b[0;34m(\u001b[0m\u001b[0;34m*\u001b[0m\u001b[0mpopenargs\u001b[0m\u001b[0;34m,\u001b[0m \u001b[0;34m**\u001b[0m\u001b[0mkwargs\u001b[0m\u001b[0;34m)\u001b[0m \u001b[0;32mas\u001b[0m \u001b[0mprocess\u001b[0m\u001b[0;34m:\u001b[0m\u001b[0;34m\u001b[0m\u001b[0;34m\u001b[0m\u001b[0m\n\u001b[1;32m    504\u001b[0m         \u001b[0;32mtry\u001b[0m\u001b[0;34m:\u001b[0m\u001b[0;34m\u001b[0m\u001b[0;34m\u001b[0m\u001b[0m\n\u001b[0;32m--> 505\u001b[0;31m             \u001b[0mstdout\u001b[0m\u001b[0;34m,\u001b[0m \u001b[0mstderr\u001b[0m \u001b[0;34m=\u001b[0m \u001b[0mprocess\u001b[0m\u001b[0;34m.\u001b[0m\u001b[0mcommunicate\u001b[0m\u001b[0;34m(\u001b[0m\u001b[0minput\u001b[0m\u001b[0;34m,\u001b[0m \u001b[0mtimeout\u001b[0m\u001b[0;34m=\u001b[0m\u001b[0mtimeout\u001b[0m\u001b[0;34m)\u001b[0m\u001b[0;34m\u001b[0m\u001b[0;34m\u001b[0m\u001b[0m\n\u001b[0m\u001b[1;32m    506\u001b[0m         \u001b[0;32mexcept\u001b[0m \u001b[0mTimeoutExpired\u001b[0m \u001b[0;32mas\u001b[0m \u001b[0mexc\u001b[0m\u001b[0;34m:\u001b[0m\u001b[0;34m\u001b[0m\u001b[0;34m\u001b[0m\u001b[0m\n\u001b[1;32m    507\u001b[0m             \u001b[0mprocess\u001b[0m\u001b[0;34m.\u001b[0m\u001b[0mkill\u001b[0m\u001b[0;34m(\u001b[0m\u001b[0;34m)\u001b[0m\u001b[0;34m\u001b[0m\u001b[0;34m\u001b[0m\u001b[0m\n",
            "\u001b[0;32m/usr/lib/python3.10/subprocess.py\u001b[0m in \u001b[0;36mcommunicate\u001b[0;34m(self, input, timeout)\u001b[0m\n\u001b[1;32m   1139\u001b[0m                 \u001b[0mself\u001b[0m\u001b[0;34m.\u001b[0m\u001b[0m_stdin_write\u001b[0m\u001b[0;34m(\u001b[0m\u001b[0minput\u001b[0m\u001b[0;34m)\u001b[0m\u001b[0;34m\u001b[0m\u001b[0;34m\u001b[0m\u001b[0m\n\u001b[1;32m   1140\u001b[0m             \u001b[0;32melif\u001b[0m \u001b[0mself\u001b[0m\u001b[0;34m.\u001b[0m\u001b[0mstdout\u001b[0m\u001b[0;34m:\u001b[0m\u001b[0;34m\u001b[0m\u001b[0;34m\u001b[0m\u001b[0m\n\u001b[0;32m-> 1141\u001b[0;31m                 \u001b[0mstdout\u001b[0m \u001b[0;34m=\u001b[0m \u001b[0mself\u001b[0m\u001b[0;34m.\u001b[0m\u001b[0mstdout\u001b[0m\u001b[0;34m.\u001b[0m\u001b[0mread\u001b[0m\u001b[0;34m(\u001b[0m\u001b[0;34m)\u001b[0m\u001b[0;34m\u001b[0m\u001b[0;34m\u001b[0m\u001b[0m\n\u001b[0m\u001b[1;32m   1142\u001b[0m                 \u001b[0mself\u001b[0m\u001b[0;34m.\u001b[0m\u001b[0mstdout\u001b[0m\u001b[0;34m.\u001b[0m\u001b[0mclose\u001b[0m\u001b[0;34m(\u001b[0m\u001b[0;34m)\u001b[0m\u001b[0;34m\u001b[0m\u001b[0;34m\u001b[0m\u001b[0m\n\u001b[1;32m   1143\u001b[0m             \u001b[0;32melif\u001b[0m \u001b[0mself\u001b[0m\u001b[0;34m.\u001b[0m\u001b[0mstderr\u001b[0m\u001b[0;34m:\u001b[0m\u001b[0;34m\u001b[0m\u001b[0;34m\u001b[0m\u001b[0m\n",
            "\u001b[0;31mKeyboardInterrupt\u001b[0m: "
          ]
        }
      ]
    },
    {
      "cell_type": "code",
      "source": [
        "print(Q)\n",
        "\n",
        "print(\"Percent of episodes finished successfully: {0}\".format(sum(rewards_total)/num_episodes))\n",
        "print(\"Percent of episodes finished successfully (last 100 episodes): {0}\".format(sum(rewards_total[-100:])/100))\n",
        "\n",
        "print(\"Average number of steps: %.2f\" % (sum(steps_total)/num_episodes))\n",
        "print(\"Average number of steps (last 100 episodes): %.2f\" % (sum(steps_total[-100:])/100))"
      ],
      "metadata": {
        "colab": {
          "base_uri": "https://localhost:8080/"
        },
        "id": "daxuY1udXm2P",
        "outputId": "c9ff55dd-c2b6-4ddc-9332-d6416cd42eb5"
      },
      "execution_count": 66,
      "outputs": [
        {
          "output_type": "stream",
          "name": "stdout",
          "text": [
            "tensor([[0.7351, 0.6983, 0.7738, 0.7351],\n",
            "        [0.7351, 0.0000, 0.8145, 0.7738],\n",
            "        [0.7738, 0.8574, 0.7738, 0.8145],\n",
            "        [0.8145, 0.0000, 0.0000, 0.7738],\n",
            "        [0.6983, 0.6634, 0.0000, 0.7351],\n",
            "        [0.0000, 0.0000, 0.0000, 0.0000],\n",
            "        [0.0000, 0.9025, 0.0000, 0.8145],\n",
            "        [0.0000, 0.0000, 0.0000, 0.0000],\n",
            "        [0.0000, 0.0000, 0.0000, 0.6983],\n",
            "        [0.0000, 0.9025, 0.9025, 0.0000],\n",
            "        [0.8574, 0.9500, 0.0000, 0.8574],\n",
            "        [0.0000, 0.0000, 0.0000, 0.0000],\n",
            "        [0.0000, 0.0000, 0.0000, 0.0000],\n",
            "        [0.0000, 0.9025, 0.9500, 0.0000],\n",
            "        [0.9025, 0.9500, 1.0000, 0.9025],\n",
            "        [0.0000, 0.0000, 0.0000, 0.0000]])\n",
            "Percent of episodes finished successfully: 0.785\n",
            "Percent of episodes finished successfully (last 100 episodes): 0.89\n",
            "Average number of steps: 6.54\n",
            "Average number of steps (last 100 episodes): 6.24\n"
          ]
        }
      ]
    },
    {
      "cell_type": "code",
      "source": [
        "plt.figure(figsize=(12,5))\n",
        "plt.title(\"Rewards\")\n",
        "plt.bar(torch.arange(len(rewards_total)), rewards_total, alpha=0.6, color='green', width=5)\n",
        "plt.show()"
      ],
      "metadata": {
        "colab": {
          "base_uri": "https://localhost:8080/",
          "height": 468
        },
        "id": "aGxAJnevZNFD",
        "outputId": "ed5290ba-9360-43f7-fa5c-941652338abd"
      },
      "execution_count": 67,
      "outputs": [
        {
          "output_type": "display_data",
          "data": {
            "text/plain": [
              "<Figure size 1200x500 with 1 Axes>"
            ],
            "image/png": "[encoded data removed]"
          },
          "metadata": {}
        }
      ]
    },
    {
      "cell_type": "code",
      "source": [
        "show_video('video2/rl-video-episode-4.mp4')  #only shows the last run"
      ],
      "metadata": {
        "colab": {
          "base_uri": "https://localhost:8080/",
          "height": 439
        },
        "id": "zooL4HruDE_g",
        "outputId": "9c0ebdde-c1cc-4aef-de88-0f2fe271e766"
      },
      "execution_count": 25,
      "outputs": [
        {
          "output_type": "stream",
          "name": "stdout",
          "text": [
            "video/rl-video-episode-4.mp4\n"
          ]
        },
        {
          "output_type": "display_data",
          "data": {
            "text/plain": [
              "<IPython.core.display.HTML object>"
            ],
            "text/html": [
              "<video alt=\"test\" autoplay \n",
              "                controls style=\"height: 400px;\">\n",
              "                <source src=\"data:video/mp4;base64,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\" type=\"video/mp4\" />\n",
              "             </video>"
            ]
          },
          "metadata": {}
        }
      ]
    }
  ]
}